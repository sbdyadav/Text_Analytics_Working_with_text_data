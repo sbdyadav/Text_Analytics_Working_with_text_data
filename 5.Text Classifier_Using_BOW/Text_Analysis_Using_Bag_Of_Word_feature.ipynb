{
 "cells": [
  {
   "cell_type": "markdown",
   "metadata": {
    "colab_type": "text",
    "id": "oWslqMagQI9T"
   },
   "source": [
    "The main objective of the notebook is to build a classification model using bag of words features\n",
    "\n",
    "### Import Libraries"
   ]
  },
  {
   "cell_type": "code",
   "execution_count": 1,
   "metadata": {
    "colab": {},
    "colab_type": "code",
    "id": "jpSl4lfJSgFO"
   },
   "outputs": [],
   "source": [
    "import pandas as pd                                         #data processing\n",
    "import re                                                   #regular expression for data cleaning\n",
    "from sklearn.feature_extraction.text import CountVectorizer #feature extraction\n",
    "import nltk                                                 #natural language toolkit\n",
    "from sklearn.linear_model import LogisticRegression  \n",
    "from sklearn.model_selection import train_test_split \n",
    "from sklearn.metrics import f1_score\n",
    "import matplotlib.pyplot as plt\n",
    "import warnings\n",
    "\n",
    "%matplotlib inline\n",
    "warnings.filterwarnings(\"ignore\")\n",
    "pd.set_option(\"display.max_colwidth\", 200)"
   ]
  },
  {
   "cell_type": "markdown",
   "metadata": {
    "colab_type": "text",
    "id": "OFFBpijKztq_"
   },
   "source": [
    "### Load Dataset"
   ]
  },
  {
   "cell_type": "code",
   "execution_count": 2,
   "metadata": {
    "colab": {},
    "colab_type": "code",
    "id": "Gv0W5cENTlY0"
   },
   "outputs": [],
   "source": [
    "data=pd.read_csv(\"tweets.csv\") "
   ]
  },
  {
   "cell_type": "markdown",
   "metadata": {
    "colab_type": "text",
    "id": "II6P5dQX6Ilq"
   },
   "source": [
    "Let us print information about a dataframe including the index, dtype and column dtypes."
   ]
  },
  {
   "cell_type": "code",
   "execution_count": 3,
   "metadata": {
    "colab": {
     "base_uri": "https://localhost:8080/",
     "height": 163
    },
    "colab_type": "code",
    "id": "hsPoV95WSgG1",
    "outputId": "c92ccf3c-c2a7-4ef2-ea14-7688d1556bc7"
   },
   "outputs": [
    {
     "name": "stdout",
     "output_type": "stream",
     "text": [
      "<class 'pandas.core.frame.DataFrame'>\n",
      "RangeIndex: 7920 entries, 0 to 7919\n",
      "Data columns (total 3 columns):\n",
      " #   Column  Non-Null Count  Dtype \n",
      "---  ------  --------------  ----- \n",
      " 0   id      7920 non-null   int64 \n",
      " 1   label   7920 non-null   int64 \n",
      " 2   tweet   7920 non-null   object\n",
      "dtypes: int64(2), object(1)\n",
      "memory usage: 185.8+ KB\n"
     ]
    }
   ],
   "source": [
    "data.info()"
   ]
  },
  {
   "cell_type": "markdown",
   "metadata": {
    "colab_type": "text",
    "id": "Yp-88p5L6jfR"
   },
   "source": [
    "Display first 5 rows"
   ]
  },
  {
   "cell_type": "code",
   "execution_count": 4,
   "metadata": {
    "colab": {
     "base_uri": "https://localhost:8080/",
     "height": 198
    },
    "colab_type": "code",
    "id": "Ed2YZWdOSgJo",
    "outputId": "f4ca7a97-275b-4288-b13e-8bf8d99aff27"
   },
   "outputs": [
    {
     "data": {
      "text/html": [
       "<div>\n",
       "<style scoped>\n",
       "    .dataframe tbody tr th:only-of-type {\n",
       "        vertical-align: middle;\n",
       "    }\n",
       "\n",
       "    .dataframe tbody tr th {\n",
       "        vertical-align: top;\n",
       "    }\n",
       "\n",
       "    .dataframe thead th {\n",
       "        text-align: right;\n",
       "    }\n",
       "</style>\n",
       "<table border=\"1\" class=\"dataframe\">\n",
       "  <thead>\n",
       "    <tr style=\"text-align: right;\">\n",
       "      <th></th>\n",
       "      <th>id</th>\n",
       "      <th>label</th>\n",
       "      <th>tweet</th>\n",
       "    </tr>\n",
       "  </thead>\n",
       "  <tbody>\n",
       "    <tr>\n",
       "      <th>0</th>\n",
       "      <td>1</td>\n",
       "      <td>0</td>\n",
       "      <td>#fingerprint #Pregnancy Test https://goo.gl/h1MfQV #android #apps #beautiful #cute #health #igers #iphoneonly #iphonesia #iphone</td>\n",
       "    </tr>\n",
       "    <tr>\n",
       "      <th>1</th>\n",
       "      <td>2</td>\n",
       "      <td>0</td>\n",
       "      <td>Finally a transparant silicon case ^^ Thanks to my uncle :) #yay #Sony #Xperia #S #sonyexperias… http://instagram.com/p/YGEt5JC6JM/</td>\n",
       "    </tr>\n",
       "    <tr>\n",
       "      <th>2</th>\n",
       "      <td>3</td>\n",
       "      <td>0</td>\n",
       "      <td>We love this! Would you go? #talk #makememories #unplug #relax #iphone #smartphone #wifi #connect... http://fb.me/6N3LsUpCu</td>\n",
       "    </tr>\n",
       "    <tr>\n",
       "      <th>3</th>\n",
       "      <td>4</td>\n",
       "      <td>0</td>\n",
       "      <td>I'm wired I know I'm George I was made that way ;) #iphone #cute #daventry #home http://instagr.am/p/Li_5_ujS4k/</td>\n",
       "    </tr>\n",
       "    <tr>\n",
       "      <th>4</th>\n",
       "      <td>5</td>\n",
       "      <td>1</td>\n",
       "      <td>What amazing service! Apple won't even talk to me about a question I have unless I pay them $19.95 for their stupid support!</td>\n",
       "    </tr>\n",
       "  </tbody>\n",
       "</table>\n",
       "</div>"
      ],
      "text/plain": [
       "   id  label  \\\n",
       "0   1      0   \n",
       "1   2      0   \n",
       "2   3      0   \n",
       "3   4      0   \n",
       "4   5      1   \n",
       "\n",
       "                                                                                                                                 tweet  \n",
       "0     #fingerprint #Pregnancy Test https://goo.gl/h1MfQV #android #apps #beautiful #cute #health #igers #iphoneonly #iphonesia #iphone  \n",
       "1  Finally a transparant silicon case ^^ Thanks to my uncle :) #yay #Sony #Xperia #S #sonyexperias… http://instagram.com/p/YGEt5JC6JM/  \n",
       "2          We love this! Would you go? #talk #makememories #unplug #relax #iphone #smartphone #wifi #connect... http://fb.me/6N3LsUpCu  \n",
       "3                     I'm wired I know I'm George I was made that way ;) #iphone #cute #daventry #home http://instagr.am/p/Li_5_ujS4k/  \n",
       "4         What amazing service! Apple won't even talk to me about a question I have unless I pay them $19.95 for their stupid support!  "
      ]
     },
     "execution_count": 4,
     "metadata": {},
     "output_type": "execute_result"
    }
   ],
   "source": [
    "data.head()"
   ]
  },
  {
   "cell_type": "markdown",
   "metadata": {
    "colab_type": "text",
    "id": "Yd8EXhFG6pYp"
   },
   "source": [
    "check for null values since machine learning algorithm do not suppport data with missing values"
   ]
  },
  {
   "cell_type": "code",
   "execution_count": 5,
   "metadata": {
    "colab": {
     "base_uri": "https://localhost:8080/",
     "height": 90
    },
    "colab_type": "code",
    "id": "pk2E0I5tSgML",
    "outputId": "56bea973-9109-45d9-f79a-1638cdcca59a"
   },
   "outputs": [
    {
     "data": {
      "text/plain": [
       "id       0\n",
       "label    0\n",
       "tweet    0\n",
       "dtype: int64"
      ]
     },
     "execution_count": 5,
     "metadata": {},
     "output_type": "execute_result"
    }
   ],
   "source": [
    "data.isnull().sum() #check for the null values"
   ]
  },
  {
   "cell_type": "markdown",
   "metadata": {
    "colab_type": "text",
    "id": "mlYhUgrf7OqV"
   },
   "source": [
    "Dropping out the column with ID since it doesn't contribute to the output"
   ]
  },
  {
   "cell_type": "code",
   "execution_count": 6,
   "metadata": {
    "colab": {},
    "colab_type": "code",
    "id": "d2eDHtjTSgPH"
   },
   "outputs": [],
   "source": [
    "data = data.drop(['id'],axis=1) #drop unnecessary columns"
   ]
  },
  {
   "cell_type": "markdown",
   "metadata": {
    "colab_type": "text",
    "id": "jxtYJzGh8Zs7"
   },
   "source": [
    "Understanding the class distribution helps in knowing whether the dataset is balanced or \n",
    "not."
   ]
  },
  {
   "cell_type": "code",
   "execution_count": 7,
   "metadata": {
    "colab": {
     "base_uri": "https://localhost:8080/",
     "height": 284
    },
    "colab_type": "code",
    "id": "H44TJ-ZKSgTT",
    "outputId": "758a4171-feca-4e2d-d902-4298e09c3d09"
   },
   "outputs": [
    {
     "data": {
      "text/plain": [
       "<matplotlib.axes._subplots.AxesSubplot at 0x22010e0da58>"
      ]
     },
     "execution_count": 7,
     "metadata": {},
     "output_type": "execute_result"
    },
    {
     "data": {
      "image/png": "[encoded data removed]",
      "text/plain": [
       "<Figure size 432x288 with 1 Axes>"
      ]
     },
     "metadata": {
      "needs_background": "light"
     },
     "output_type": "display_data"
    }
   ],
   "source": [
    "data['label'].value_counts().plot(kind='bar')"
   ]
  },
  {
   "cell_type": "markdown",
   "metadata": {
    "colab_type": "text",
    "id": "lGh5mQE27jiZ"
   },
   "source": [
    "Lets us understand the proportion of each class"
   ]
  },
  {
   "cell_type": "code",
   "execution_count": 8,
   "metadata": {
    "colab": {
     "base_uri": "https://localhost:8080/",
     "height": 72
    },
    "colab_type": "code",
    "id": "eWAuHpc4U_ip",
    "outputId": "b830f501-449b-4d6a-8dc0-6650a7f3f7d6"
   },
   "outputs": [
    {
     "data": {
      "text/plain": [
       "0    0.744192\n",
       "1    0.255808\n",
       "Name: label, dtype: float64"
      ]
     },
     "execution_count": 8,
     "metadata": {},
     "output_type": "execute_result"
    }
   ],
   "source": [
    "data['label'].value_counts(normalize=True)"
   ]
  },
  {
   "cell_type": "markdown",
   "metadata": {
    "colab_type": "text",
    "id": "IfJ6U27N8t_N"
   },
   "source": [
    "We can infer that the given problem is a class imbalance problem"
   ]
  },
  {
   "cell_type": "markdown",
   "metadata": {
    "colab_type": "text",
    "id": "GHOmMkF0VXmo"
   },
   "source": [
    "### Pre Processing the text\n",
    "\n",
    "1.The raw data is messy. It contains hashtags, user mentions, non ascii characters, punctuations, numbers, html entities, extra spaces, misspelled words,etc.\n",
    "\n",
    "2.So, Data Pre-processing is the most important step prior to the model building in which we remove all the unnecessary qualities from the data.\n",
    "\n",
    "Let us look at some of the examples"
   ]
  },
  {
   "cell_type": "markdown",
   "metadata": {
    "colab_type": "text",
    "id": "fk0Z5qHfeAFu"
   },
   "source": [
    "__Contraction mapping:__ expanding the shortened versions or contraction of words using contraction dictionary"
   ]
  },
  {
   "cell_type": "code",
   "execution_count": 9,
   "metadata": {
    "colab": {
     "base_uri": "https://localhost:8080/",
     "height": 35
    },
    "colab_type": "code",
    "id": "tYpnyqFteCFp",
    "outputId": "e3e76cf4-b931-45e6-cfbc-4b90b045851a"
   },
   "outputs": [
    {
     "data": {
      "text/plain": [
       "\"It's time for new wallpapers #phone #wallpapers #wall #screen #galaxy #samsung #app … https://www.instagram.com/p/BcsKTNNn51c/\""
      ]
     },
     "execution_count": 9,
     "metadata": {},
     "output_type": "execute_result"
    }
   ],
   "source": [
    "data.tweet[24]"
   ]
  },
  {
   "cell_type": "code",
   "execution_count": 10,
   "metadata": {
    "colab": {
     "base_uri": "https://localhost:8080/",
     "height": 35
    },
    "colab_type": "code",
    "id": "oyP5M08neR4A",
    "outputId": "49904e9c-4a6e-4e05-9c26-0470e5211eb4"
   },
   "outputs": [
    {
     "data": {
      "text/plain": [
       "'It is time for new wallpapers #phone #wallpapers #wall #screen #galaxy #samsung #app … https://www.instagram.com/p/BcsKTNNn51c/'"
      ]
     },
     "execution_count": 10,
     "metadata": {},
     "output_type": "execute_result"
    }
   ],
   "source": [
    "newString=re.sub(r\"'s\\b\",\" is\",data.tweet[24])  #converting It's to It is\n",
    "newString"
   ]
  },
  {
   "cell_type": "markdown",
   "metadata": {
    "colab_type": "text",
    "id": "DIFbRza8Wfob"
   },
   "source": [
    "__Removing user mention__"
   ]
  },
  {
   "cell_type": "code",
   "execution_count": 11,
   "metadata": {
    "colab": {
     "base_uri": "https://localhost:8080/",
     "height": 35
    },
    "colab_type": "code",
    "id": "txR4TLzAVSwl",
    "outputId": "a85e063d-6680-41bc-d89c-759ac265df24"
   },
   "outputs": [
    {
     "data": {
      "text/plain": [
       "'Ha! Not heavy machinery but it does what I need it to. @Apple really dropped the ball with that design. #drinkyourhaterade'"
      ]
     },
     "execution_count": 11,
     "metadata": {},
     "output_type": "execute_result"
    }
   ],
   "source": [
    "data.tweet[11]"
   ]
  },
  {
   "cell_type": "code",
   "execution_count": 12,
   "metadata": {
    "colab": {
     "base_uri": "https://localhost:8080/",
     "height": 35
    },
    "colab_type": "code",
    "id": "AVAR7mAbVFn9",
    "outputId": "62eefd8c-248f-448b-c5f4-d62bdc07fb2f"
   },
   "outputs": [
    {
     "name": "stdout",
     "output_type": "stream",
     "text": [
      "Ha! Not heavy machinery but it does what I need it to.  really dropped the ball with that design. #drinkyourhaterade\n"
     ]
    }
   ],
   "source": [
    "newString=re.sub(r'@[A-Za-z0-9]+','',data.tweet[11])\n",
    "print(newString)"
   ]
  },
  {
   "cell_type": "markdown",
   "metadata": {
    "colab_type": "text",
    "id": "H3-cWnVOYLPN"
   },
   "source": [
    "__Removing hashtag symbol__"
   ]
  },
  {
   "cell_type": "code",
   "execution_count": 13,
   "metadata": {
    "colab": {
     "base_uri": "https://localhost:8080/",
     "height": 35
    },
    "colab_type": "code",
    "id": "3_ZHyQ6lXXVQ",
    "outputId": "06daa472-963f-485f-ad50-bb2ecae49e9e"
   },
   "outputs": [
    {
     "data": {
      "text/plain": [
       "'#fingerprint #Pregnancy Test https://goo.gl/h1MfQV #android #apps #beautiful #cute #health #igers #iphoneonly #iphonesia #iphone'"
      ]
     },
     "execution_count": 13,
     "metadata": {},
     "output_type": "execute_result"
    }
   ],
   "source": [
    "data.tweet[0]"
   ]
  },
  {
   "cell_type": "code",
   "execution_count": 14,
   "metadata": {
    "colab": {
     "base_uri": "https://localhost:8080/",
     "height": 35
    },
    "colab_type": "code",
    "id": "Ii_vEqg-YDyG",
    "outputId": "4c44e82b-eeb8-4954-8b55-ac819912f99c"
   },
   "outputs": [
    {
     "name": "stdout",
     "output_type": "stream",
     "text": [
      "fingerprint Pregnancy Test https://goo.gl/h1MfQV android apps beautiful cute health igers iphoneonly iphonesia iphone\n"
     ]
    }
   ],
   "source": [
    "newString=re.sub(\"#\",\"\",data.tweet[0])\n",
    "print(newString)"
   ]
  },
  {
   "cell_type": "markdown",
   "metadata": {
    "colab_type": "text",
    "id": "lwp-1r23ZPq4"
   },
   "source": [
    "__Removal of links__"
   ]
  },
  {
   "cell_type": "code",
   "execution_count": 15,
   "metadata": {
    "colab": {
     "base_uri": "https://localhost:8080/",
     "height": 35
    },
    "colab_type": "code",
    "id": "lgYxbdn5ZTh9",
    "outputId": "d2c2e1a3-166e-42d5-9e4e-828a6041963f"
   },
   "outputs": [
    {
     "data": {
      "text/plain": [
       "'Finally a transparant silicon case ^^ Thanks to my uncle :) #yay #Sony #Xperia #S #sonyexperias… http://instagram.com/p/YGEt5JC6JM/'"
      ]
     },
     "execution_count": 15,
     "metadata": {},
     "output_type": "execute_result"
    }
   ],
   "source": [
    "data.tweet[1]"
   ]
  },
  {
   "cell_type": "code",
   "execution_count": 16,
   "metadata": {
    "colab": {
     "base_uri": "https://localhost:8080/",
     "height": 35
    },
    "colab_type": "code",
    "id": "AnJVsFtlZZBC",
    "outputId": "a9dbc7f2-4bdd-46bf-a947-df0494b86764"
   },
   "outputs": [
    {
     "data": {
      "text/plain": [
       "'Finally a transparant silicon case ^^ Thanks to my uncle :) #yay #Sony #Xperia #S #sonyexperias… '"
      ]
     },
     "execution_count": 16,
     "metadata": {},
     "output_type": "execute_result"
    }
   ],
   "source": [
    "newString=re.sub(r'http\\S+', '', data.tweet[1])\n",
    "newString"
   ]
  },
  {
   "cell_type": "markdown",
   "metadata": {
    "colab_type": "text",
    "id": "_n6cicSeYgcQ"
   },
   "source": [
    "__Removing special characters, punctuations, numbers__"
   ]
  },
  {
   "cell_type": "code",
   "execution_count": 17,
   "metadata": {
    "colab": {
     "base_uri": "https://localhost:8080/",
     "height": 35
    },
    "colab_type": "code",
    "id": "R6NprqxwYD2T",
    "outputId": "a8dd20e9-9cd1-40a8-d854-4f0d44189b1b"
   },
   "outputs": [
    {
     "data": {
      "text/plain": [
       "'1.05 billion for 3 patents where there is prior art = 300 millions each = patent trolls are partying now thanks to Apple #apple'"
      ]
     },
     "execution_count": 17,
     "metadata": {},
     "output_type": "execute_result"
    }
   ],
   "source": [
    "data.tweet[25]"
   ]
  },
  {
   "cell_type": "code",
   "execution_count": 18,
   "metadata": {
    "colab": {
     "base_uri": "https://localhost:8080/",
     "height": 35
    },
    "colab_type": "code",
    "id": "6NMTaa0tYD6B",
    "outputId": "fc44ae0b-3fc0-402e-f3ed-98546afdec0e"
   },
   "outputs": [
    {
     "data": {
      "text/plain": [
       "'     billion for   patents where there is prior art       millions each   patent trolls are partying now thanks to Apple  apple'"
      ]
     },
     "execution_count": 18,
     "metadata": {},
     "output_type": "execute_result"
    }
   ],
   "source": [
    "newString=re.sub(\"[^a-zA-Z]\", \" \", data.tweet[25])\n",
    "newString"
   ]
  },
  {
   "cell_type": "markdown",
   "metadata": {},
   "source": [
    "<br>\n",
    "Now let's use these techniques on the entire dataset."
   ]
  },
  {
   "cell_type": "code",
   "execution_count": 19,
   "metadata": {
    "colab": {},
    "colab_type": "code",
    "id": "q9fgiOAygof4"
   },
   "outputs": [],
   "source": [
    "# make a dictionary of contractions\n",
    "contraction_mapping = {\"ain't\": \"is not\", \"aren't\": \"are not\",\"can't\": \"cannot\", \"'cause\": \"because\", \"could've\": \"could have\", \"couldn't\": \"could not\",\n",
    "                           \"didn't\": \"did not\",  \"doesn't\": \"does not\", \"don't\": \"do not\", \"hadn't\": \"had not\", \"hasn't\": \"has not\", \"haven't\": \"have not\",\n",
    "                           \"he'd\": \"he would\",\"he'll\": \"he will\", \"he's\": \"he is\", \"how'd\": \"how did\", \"how'd'y\": \"how do you\", \"how'll\": \"how will\", \"how's\": \"how is\",\n",
    "                           \"I'd\": \"I would\", \"I'd've\": \"I would have\", \"I'll\": \"I will\", \"I'll've\": \"I will have\",\"I'm\": \"I am\", \"I've\": \"I have\", \"i'd\": \"i would\",\n",
    "                           \"i'd've\": \"i would have\", \"i'll\": \"i will\",  \"i'll've\": \"i will have\",\"i'm\": \"i am\", \"i've\": \"i have\", \"isn't\": \"is not\", \"it'd\": \"it would\",\n",
    "                           \"it'd've\": \"it would have\", \"it'll\": \"it will\", \"it'll've\": \"it will have\",\"it's\": \"it is\", \"let's\": \"let us\", \"ma'am\": \"madam\",\n",
    "                           \"mayn't\": \"may not\", \"might've\": \"might have\",\"mightn't\": \"might not\",\"mightn't've\": \"might not have\", \"must've\": \"must have\",\n",
    "                           \"mustn't\": \"must not\", \"mustn't've\": \"must not have\", \"needn't\": \"need not\", \"needn't've\": \"need not have\",\"o'clock\": \"of the clock\",\n",
    "                           \"oughtn't\": \"ought not\", \"oughtn't've\": \"ought not have\", \"shan't\": \"shall not\", \"sha'n't\": \"shall not\", \"shan't've\": \"shall not have\",\n",
    "                           \"she'd\": \"she would\", \"she'd've\": \"she would have\", \"she'll\": \"she will\", \"she'll've\": \"she will have\", \"she's\": \"she is\",\n",
    "                           \"should've\": \"should have\", \"shouldn't\": \"should not\", \"shouldn't've\": \"should not have\", \"so've\": \"so have\",\"so's\": \"so as\",\n",
    "                           \"this's\": \"this is\",\"that'd\": \"that would\", \"that'd've\": \"that would have\", \"that's\": \"that is\", \"there'd\": \"there would\",\n",
    "                           \"there'd've\": \"there would have\", \"there's\": \"there is\", \"here's\": \"here is\",\"they'd\": \"they would\", \"they'd've\": \"they would have\",\n",
    "                           \"they'll\": \"they will\", \"they'll've\": \"they will have\", \"they're\": \"they are\", \"they've\": \"they have\", \"to've\": \"to have\",\n",
    "                           \"wasn't\": \"was not\", \"we'd\": \"we would\", \"we'd've\": \"we would have\", \"we'll\": \"we will\", \"we'll've\": \"we will have\", \"we're\": \"we are\",\n",
    "                           \"we've\": \"we have\", \"weren't\": \"were not\", \"what'll\": \"what will\", \"what'll've\": \"what will have\", \"what're\": \"what are\",\n",
    "                           \"what's\": \"what is\", \"what've\": \"what have\", \"when's\": \"when is\", \"when've\": \"when have\", \"where'd\": \"where did\", \"where's\": \"where is\",\n",
    "                           \"where've\": \"where have\", \"who'll\": \"who will\", \"who'll've\": \"who will have\", \"who's\": \"who is\", \"who've\": \"who have\",\n",
    "                           \"why's\": \"why is\", \"why've\": \"why have\", \"will've\": \"will have\", \"won't\": \"will not\", \"won't've\": \"will not have\",\n",
    "                           \"would've\": \"would have\", \"wouldn't\": \"would not\", \"wouldn't've\": \"would not have\", \"y'all\": \"you all\",\n",
    "                           \"y'all'd\": \"you all would\",\"y'all'd've\": \"you all would have\",\"y'all're\": \"you all are\",\"y'all've\": \"you all have\",\n",
    "                           \"you'd\": \"you would\", \"you'd've\": \"you would have\", \"you'll\": \"you will\", \"you'll've\": \"you will have\",\n",
    "                           \"you're\": \"you are\", \"you've\": \"you have\"}"
   ]
  },
  {
   "cell_type": "code",
   "execution_count": 20,
   "metadata": {
    "colab": {},
    "colab_type": "code",
    "id": "VHKOBLIUXXZE"
   },
   "outputs": [],
   "source": [
    "# function to pre-process text\n",
    "def tweet_cleaner(text):\n",
    "    newString=re.sub(r'@[A-Za-z0-9]+','',text)                     #removing user mentions\n",
    "    newString=re.sub(\"#\",\"\",newString)                             #removing hashtag symbol\n",
    "    newString= ' '.join([contraction_mapping[t] if t in contraction_mapping else t for t in newString.split(\" \")]) #contraction mapping\n",
    "    newString= re.sub(r'http\\S+', '', newString)                   #removing links\n",
    "    newString= re.sub(r\"'s\\b\",\"\",newString)                        #removing 's\n",
    "    letters_only = re.sub(\"[^a-zA-Z]\", \" \", newString)             #Fetching out only letters\n",
    "    lower_case = letters_only.lower()                              #converting everything to lowercase\n",
    "    words = lower_case.split()                                     #split based on space to remove multiple spaces                                \n",
    "    return (\" \".join(words)).strip()                               #combining to form sentence"
   ]
  },
  {
   "cell_type": "code",
   "execution_count": 21,
   "metadata": {
    "colab": {
     "base_uri": "https://localhost:8080/",
     "height": 108
    },
    "colab_type": "code",
    "id": "MhrdoX_2XXTh",
    "outputId": "e4d11c74-ccd6-432e-dc6d-060ffbe34a4c"
   },
   "outputs": [
    {
     "name": "stdout",
     "output_type": "stream",
     "text": [
      "['fingerprint pregnancy test android apps beautiful cute health igers iphoneonly iphonesia iphone', 'finally a transparant silicon case thanks to my uncle yay sony xperia s sonyexperias', 'we love this would you go talk makememories unplug relax iphone smartphone wifi connect', 'i am wired i know i am george i was made that way iphone cute daventry home', 'what amazing service apple will not even talk to me about a question i have unless i pay them for their stupid support']\n"
     ]
    }
   ],
   "source": [
    "# empty list to store the cleaned tweets\n",
    "cleaned_tweets = []\n",
    "\n",
    "for i in data.tweet:\n",
    "  cleaned_tweets.append(tweet_cleaner(i))\n",
    "\n",
    "print(cleaned_tweets[:5])   #print top 5 records"
   ]
  },
  {
   "cell_type": "code",
   "execution_count": 22,
   "metadata": {
    "colab": {},
    "colab_type": "code",
    "id": "7DwJ7c1QhHU0"
   },
   "outputs": [],
   "source": [
    "data['cleaned_tweets']=cleaned_tweets  #creating new column "
   ]
  },
  {
   "cell_type": "markdown",
   "metadata": {
    "colab_type": "text",
    "id": "2Hv4eZcS-aoT"
   },
   "source": [
    "### Explore the Data\n",
    "\n",
    "Let us understand the most commonly used words in the text before cleaning"
   ]
  },
  {
   "cell_type": "code",
   "execution_count": 23,
   "metadata": {
    "colab": {
     "base_uri": "https://localhost:8080/",
     "height": 409
    },
    "colab_type": "code",
    "id": "FI4KKhmpFEwP",
    "outputId": "5cc90e83-74cb-40e8-ca6d-26c3970efe2b"
   },
   "outputs": [
    {
     "data": {
      "image/png": "[encoded data removed]",
      "text/plain": [
       "<Figure size 864x360 with 1 Axes>"
      ]
     },
     "metadata": {
      "needs_background": "light"
     },
     "output_type": "display_data"
    }
   ],
   "source": [
    "all_words = []\n",
    "for line in list(data['tweet']):\n",
    "    words = line.split()\n",
    "    for word in words:\n",
    "        all_words.append(word)\n",
    "        \n",
    "plt.figure(figsize=(12,5))\n",
    "plt.title('Top 25 most common words')\n",
    "plt.xticks(fontsize=13, rotation=90)\n",
    "fd = nltk.FreqDist(all_words)\n",
    "fd.plot(25,cumulative=False)      "
   ]
  },
  {
   "cell_type": "markdown",
   "metadata": {
    "colab_type": "text",
    "id": "zivJjKJ7FxK6"
   },
   "source": [
    "From above plot, we can infer that most of the tweets are related to iphone, apple, samsung, sony but punctuations are also included in top common words."
   ]
  },
  {
   "cell_type": "markdown",
   "metadata": {
    "colab_type": "text",
    "id": "JHXBfyvDFNNB"
   },
   "source": [
    "Let us visualize the same plot after preprocessing"
   ]
  },
  {
   "cell_type": "code",
   "execution_count": 24,
   "metadata": {
    "colab": {
     "base_uri": "https://localhost:8080/",
     "height": 399
    },
    "colab_type": "code",
    "id": "l2vnobHI4qFu",
    "outputId": "76809494-3af2-4eb6-fbb2-11887284b770"
   },
   "outputs": [
    {
     "data": {
      "image/png": "[encoded data removed]",
      "text/plain": [
       "<Figure size 864x360 with 1 Axes>"
      ]
     },
     "metadata": {
      "needs_background": "light"
     },
     "output_type": "display_data"
    }
   ],
   "source": [
    "all_words = []\n",
    "for line in list(data['cleaned_tweets']):\n",
    "    words = line.split()\n",
    "    for word in words:\n",
    "        all_words.append(word)\n",
    "        \n",
    "plt.figure(figsize=(12,5))\n",
    "plt.title('Top 25 most common words')\n",
    "plt.xticks(fontsize=13, rotation=90)\n",
    "fd = nltk.FreqDist(all_words)\n",
    "fd.plot(25,cumulative=False)      "
   ]
  },
  {
   "cell_type": "markdown",
   "metadata": {
    "colab_type": "text",
    "id": "yiiUOL-wly0h"
   },
   "source": [
    "**Model building**\n",
    "\n",
    "Bag of Words features\n",
    "\n",
    "Here, frequency of every word in vocabulary is calculated and used to build the feature space."
   ]
  },
  {
   "cell_type": "code",
   "execution_count": 25,
   "metadata": {
    "colab": {
     "base_uri": "https://localhost:8080/",
     "height": 35
    },
    "colab_type": "code",
    "id": "sV6q6scXhHYh",
    "outputId": "f6c84350-34bd-45d2-c784-bdb643c72fdf"
   },
   "outputs": [
    {
     "data": {
      "text/plain": [
       "(7920, 16878)"
      ]
     },
     "execution_count": 25,
     "metadata": {},
     "output_type": "execute_result"
    }
   ],
   "source": [
    "vectorizer = CountVectorizer()\n",
    "features= vectorizer.fit_transform(data['cleaned_tweets'])\n",
    "features.shape"
   ]
  },
  {
   "cell_type": "markdown",
   "metadata": {
    "colab_type": "text",
    "id": "Wb4KPYaaAVPP"
   },
   "source": [
    "Every word in the vocabulary is a feature"
   ]
  },
  {
   "cell_type": "raw",
   "metadata": {
    "colab": {
     "base_uri": "https://localhost:8080/",
     "height": 18217
    },
    "colab_type": "code",
    "id": "BonkEFcq27IZ",
    "outputId": "4b37b07b-3661-4956-82f7-e162de73f733"
   },
   "source": [
    "vectorizer.get_feature_names() "
   ]
  },
  {
   "cell_type": "markdown",
   "metadata": {
    "colab_type": "text",
    "id": "bHIcOdG-AhBe"
   },
   "source": [
    "Split the dataset into training and validation set"
   ]
  },
  {
   "cell_type": "code",
   "execution_count": 26,
   "metadata": {
    "colab": {},
    "colab_type": "code",
    "id": "F5_bXJkwj6Nv"
   },
   "outputs": [],
   "source": [
    "xtrain_bow, xvalid_bow, ytrain, yvalid = train_test_split(features,data['label'],test_size=0.3,random_state=42) "
   ]
  },
  {
   "cell_type": "markdown",
   "metadata": {
    "colab_type": "text",
    "id": "OWjw9jT3Ao6A"
   },
   "source": [
    "Train Logistic Regression"
   ]
  },
  {
   "cell_type": "code",
   "execution_count": 27,
   "metadata": {
    "colab": {
     "base_uri": "https://localhost:8080/",
     "height": 35
    },
    "colab_type": "code",
    "id": "5JdTGDwMj6Rn",
    "outputId": "5c442346-41cc-42ce-80ab-9c339d05d074"
   },
   "outputs": [
    {
     "data": {
      "text/plain": [
       "0.7659235668789809"
      ]
     },
     "execution_count": 27,
     "metadata": {},
     "output_type": "execute_result"
    }
   ],
   "source": [
    "lr = LogisticRegression()           #instantiate model\n",
    "\n",
    "lr.fit(xtrain_bow, ytrain)          #training model\n",
    "\n",
    "prediction = lr.predict(xvalid_bow) #predicting on validation set\n",
    "\n",
    "f1_score(yvalid, prediction)        #calculating f1 score"
   ]
  },
  {
   "cell_type": "markdown",
   "metadata": {
    "colab_type": "text",
    "id": "fWmy3_p5AzRc"
   },
   "source": [
    "We have seen the steps for cleaning the text and how to build a classifier using bag of words features."
   ]
  },
  {
   "cell_type": "code",
   "execution_count": null,
   "metadata": {},
   "outputs": [],
   "source": []
  }
 ],
 "metadata": {
  "colab": {
   "collapsed_sections": [],
   "name": "BOW.ipynb",
   "provenance": [],
   "version": "0.3.2"
  },
  "kernelspec": {
   "display_name": "Python 3",
   "language": "python",
   "name": "python3"
  },
  "language_info": {
   "codemirror_mode": {
    "name": "ipython",
    "version": 3
   },
   "file_extension": ".py",
   "mimetype": "text/x-python",
   "name": "python",
   "nbconvert_exporter": "python",
   "pygments_lexer": "ipython3",
   "version": "3.7.1"
  }
 },
 "nbformat": 4,
 "nbformat_minor": 2
}
