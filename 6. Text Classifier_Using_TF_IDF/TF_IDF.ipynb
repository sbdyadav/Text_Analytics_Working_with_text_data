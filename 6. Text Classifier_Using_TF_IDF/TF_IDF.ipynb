{
 "cells": [
  {
   "cell_type": "markdown",
   "metadata": {
    "colab_type": "text",
    "id": "HqC1zqttRcum"
   },
   "source": [
    "The main objective of the notebook is to build classification model using TF-IDF features\n",
    "\n",
    "## Import libraries"
   ]
  },
  {
   "cell_type": "code",
   "execution_count": 1,
   "metadata": {
    "colab": {},
    "colab_type": "code",
    "id": "fxfiBYPMeO0r"
   },
   "outputs": [],
   "source": [
    "import pandas as pd                                         #data processing\n",
    "import re                                                   #regular expression for data cleaning\n",
    "from wordcloud import WordCloud                             #data visualization\n",
    "from sklearn.feature_extraction.text import TfidfVectorizer #feature extraction\n",
    "import nltk                                                 #natural language toolkit\n",
    "from nltk.corpus import stopwords                           #stopwords\n",
    "from nltk.stem import WordNetLemmatizer                     #text normalization\n",
    "from sklearn.linear_model import LogisticRegression  \n",
    "from sklearn.model_selection import train_test_split \n",
    "from sklearn.metrics import f1_score\n",
    "import matplotlib.pyplot as plt\n",
    "import warnings\n",
    "warnings.filterwarnings(\"ignore\")\n",
    "pd.set_option(\"display.max_colwidth\", 200)"
   ]
  },
  {
   "cell_type": "markdown",
   "metadata": {
    "colab_type": "text",
    "id": "G8u463X7erPP"
   },
   "source": [
    "## Reading .csv"
   ]
  },
  {
   "cell_type": "code",
   "execution_count": 2,
   "metadata": {
    "colab": {},
    "colab_type": "code",
    "id": "EO92Y2KweXbB"
   },
   "outputs": [],
   "source": [
    "data=pd.read_csv(\"tweets.csv\") "
   ]
  },
  {
   "cell_type": "markdown",
   "metadata": {
    "colab_type": "text",
    "id": "Iz5ihLDJexuD"
   },
   "source": [
    "Let us print information about a dataframe including the index, dtype and column dtypes."
   ]
  },
  {
   "cell_type": "code",
   "execution_count": 3,
   "metadata": {
    "colab": {
     "base_uri": "https://localhost:8080/",
     "height": 163
    },
    "colab_type": "code",
    "id": "DUdSw8NHeXd1",
    "outputId": "6ed75246-8ae7-4b5a-be63-d2092bd72e5a"
   },
   "outputs": [
    {
     "name": "stdout",
     "output_type": "stream",
     "text": [
      "<class 'pandas.core.frame.DataFrame'>\n",
      "RangeIndex: 7920 entries, 0 to 7919\n",
      "Data columns (total 3 columns):\n",
      " #   Column  Non-Null Count  Dtype \n",
      "---  ------  --------------  ----- \n",
      " 0   id      7920 non-null   int64 \n",
      " 1   label   7920 non-null   int64 \n",
      " 2   tweet   7920 non-null   object\n",
      "dtypes: int64(2), object(1)\n",
      "memory usage: 185.8+ KB\n"
     ]
    }
   ],
   "source": [
    "data.info()"
   ]
  },
  {
   "cell_type": "markdown",
   "metadata": {
    "colab_type": "text",
    "id": "vovBeoOse4SE"
   },
   "source": [
    "Display first 5 rows"
   ]
  },
  {
   "cell_type": "code",
   "execution_count": 4,
   "metadata": {
    "colab": {
     "base_uri": "https://localhost:8080/",
     "height": 198
    },
    "colab_type": "code",
    "id": "t7Iu1-pKeXg7",
    "outputId": "45822874-79fe-4b70-f721-ce2e35f484aa"
   },
   "outputs": [
    {
     "data": {
      "text/html": [
       "<div>\n",
       "<style scoped>\n",
       "    .dataframe tbody tr th:only-of-type {\n",
       "        vertical-align: middle;\n",
       "    }\n",
       "\n",
       "    .dataframe tbody tr th {\n",
       "        vertical-align: top;\n",
       "    }\n",
       "\n",
       "    .dataframe thead th {\n",
       "        text-align: right;\n",
       "    }\n",
       "</style>\n",
       "<table border=\"1\" class=\"dataframe\">\n",
       "  <thead>\n",
       "    <tr style=\"text-align: right;\">\n",
       "      <th></th>\n",
       "      <th>id</th>\n",
       "      <th>label</th>\n",
       "      <th>tweet</th>\n",
       "    </tr>\n",
       "  </thead>\n",
       "  <tbody>\n",
       "    <tr>\n",
       "      <th>0</th>\n",
       "      <td>1</td>\n",
       "      <td>0</td>\n",
       "      <td>#fingerprint #Pregnancy Test https://goo.gl/h1MfQV #android #apps #beautiful #cute #health #igers #iphoneonly #iphonesia #iphone</td>\n",
       "    </tr>\n",
       "    <tr>\n",
       "      <th>1</th>\n",
       "      <td>2</td>\n",
       "      <td>0</td>\n",
       "      <td>Finally a transparant silicon case ^^ Thanks to my uncle :) #yay #Sony #Xperia #S #sonyexperias… http://instagram.com/p/YGEt5JC6JM/</td>\n",
       "    </tr>\n",
       "    <tr>\n",
       "      <th>2</th>\n",
       "      <td>3</td>\n",
       "      <td>0</td>\n",
       "      <td>We love this! Would you go? #talk #makememories #unplug #relax #iphone #smartphone #wifi #connect... http://fb.me/6N3LsUpCu</td>\n",
       "    </tr>\n",
       "    <tr>\n",
       "      <th>3</th>\n",
       "      <td>4</td>\n",
       "      <td>0</td>\n",
       "      <td>I'm wired I know I'm George I was made that way ;) #iphone #cute #daventry #home http://instagr.am/p/Li_5_ujS4k/</td>\n",
       "    </tr>\n",
       "    <tr>\n",
       "      <th>4</th>\n",
       "      <td>5</td>\n",
       "      <td>1</td>\n",
       "      <td>What amazing service! Apple won't even talk to me about a question I have unless I pay them $19.95 for their stupid support!</td>\n",
       "    </tr>\n",
       "  </tbody>\n",
       "</table>\n",
       "</div>"
      ],
      "text/plain": [
       "   id  label  \\\n",
       "0   1      0   \n",
       "1   2      0   \n",
       "2   3      0   \n",
       "3   4      0   \n",
       "4   5      1   \n",
       "\n",
       "                                                                                                                                 tweet  \n",
       "0     #fingerprint #Pregnancy Test https://goo.gl/h1MfQV #android #apps #beautiful #cute #health #igers #iphoneonly #iphonesia #iphone  \n",
       "1  Finally a transparant silicon case ^^ Thanks to my uncle :) #yay #Sony #Xperia #S #sonyexperias… http://instagram.com/p/YGEt5JC6JM/  \n",
       "2          We love this! Would you go? #talk #makememories #unplug #relax #iphone #smartphone #wifi #connect... http://fb.me/6N3LsUpCu  \n",
       "3                     I'm wired I know I'm George I was made that way ;) #iphone #cute #daventry #home http://instagr.am/p/Li_5_ujS4k/  \n",
       "4         What amazing service! Apple won't even talk to me about a question I have unless I pay them $19.95 for their stupid support!  "
      ]
     },
     "execution_count": 4,
     "metadata": {},
     "output_type": "execute_result"
    }
   ],
   "source": [
    "data.head()"
   ]
  },
  {
   "cell_type": "markdown",
   "metadata": {
    "colab_type": "text",
    "id": "MFSkQcW4fRpC"
   },
   "source": [
    "check for null values since machine learning algorithm do not suppport data with missing values"
   ]
  },
  {
   "cell_type": "code",
   "execution_count": 5,
   "metadata": {
    "colab": {
     "base_uri": "https://localhost:8080/",
     "height": 90
    },
    "colab_type": "code",
    "id": "Urmxtn-TeXkA",
    "outputId": "7266f7f8-8542-4ebc-dd24-d9ad13077d79"
   },
   "outputs": [
    {
     "data": {
      "text/plain": [
       "id       0\n",
       "label    0\n",
       "tweet    0\n",
       "dtype: int64"
      ]
     },
     "execution_count": 5,
     "metadata": {},
     "output_type": "execute_result"
    }
   ],
   "source": [
    "data.isnull().sum() #check for the null values"
   ]
  },
  {
   "cell_type": "markdown",
   "metadata": {
    "colab_type": "text",
    "id": "XKua3xPffXru"
   },
   "source": [
    "Dropping out the column with ID since it doesn't contribute to the output"
   ]
  },
  {
   "cell_type": "code",
   "execution_count": 6,
   "metadata": {
    "colab": {},
    "colab_type": "code",
    "id": "No-Mqe5seXnC"
   },
   "outputs": [],
   "source": [
    "data = data.drop(['id'],axis=1) #drop unnecessary columns"
   ]
  },
  {
   "cell_type": "markdown",
   "metadata": {
    "colab_type": "text",
    "id": "kRyG3m_SfcRh"
   },
   "source": [
    "Understanding the class distribution helps in knowing whether the dataset is balanced or not."
   ]
  },
  {
   "cell_type": "code",
   "execution_count": 7,
   "metadata": {
    "colab": {
     "base_uri": "https://localhost:8080/",
     "height": 284
    },
    "colab_type": "code",
    "id": "qcA3pGWAeXqW",
    "outputId": "af88092e-01f5-4274-a956-6d190805258a"
   },
   "outputs": [
    {
     "data": {
      "text/plain": [
       "<matplotlib.axes._subplots.AxesSubplot at 0x211c55b0ac8>"
      ]
     },
     "execution_count": 7,
     "metadata": {},
     "output_type": "execute_result"
    },
    {
     "data": {
      "image/png": "[encoded data removed]",
      "text/plain": [
       "<Figure size 432x288 with 1 Axes>"
      ]
     },
     "metadata": {
      "needs_background": "light"
     },
     "output_type": "display_data"
    }
   ],
   "source": [
    "data['label'].value_counts().plot(kind='bar')"
   ]
  },
  {
   "cell_type": "markdown",
   "metadata": {
    "colab_type": "text",
    "id": "Tbgjf1G2fj1H"
   },
   "source": [
    "Lets us understand the proportion of each class"
   ]
  },
  {
   "cell_type": "code",
   "execution_count": 8,
   "metadata": {
    "colab": {
     "base_uri": "https://localhost:8080/",
     "height": 72
    },
    "colab_type": "code",
    "id": "bmfiNp7LeXxF",
    "outputId": "1b78134e-d07a-498a-fa45-370397900d83"
   },
   "outputs": [
    {
     "data": {
      "text/plain": [
       "0    0.744192\n",
       "1    0.255808\n",
       "Name: label, dtype: float64"
      ]
     },
     "execution_count": 8,
     "metadata": {},
     "output_type": "execute_result"
    }
   ],
   "source": [
    "data['label'].value_counts(normalize=True)"
   ]
  },
  {
   "cell_type": "markdown",
   "metadata": {
    "colab_type": "text",
    "id": "Mj7_IwUJfoyk"
   },
   "source": [
    "We can infer that the given problem is a class imbalance problem\n",
    "\n",
    "**Pre Processing the text**\n",
    "\n",
    "1.The raw data is messy. It contains hashtags, user mentions, non ascii characters, punctuations, numbers, html entities, extra spaces, misspelled words,etc.\n",
    "\n",
    "2.So, Data Pre-processing is the most important step prior to the model building in which we remove all the unnecessary qualities from the data.\n",
    "\n",
    "Let us look at some of the examples\n",
    "\n",
    "Contraction mapping : expanding the shortened versions or contraction of words using contraction dictionary"
   ]
  },
  {
   "cell_type": "code",
   "execution_count": 9,
   "metadata": {
    "colab": {
     "base_uri": "https://localhost:8080/",
     "height": 35
    },
    "colab_type": "code",
    "id": "VyfCg4nNeX0t",
    "outputId": "e74143b0-2a3a-45c7-9f3c-7cd600cad97e"
   },
   "outputs": [
    {
     "data": {
      "text/plain": [
       "\"It's time for new wallpapers #phone #wallpapers #wall #screen #galaxy #samsung #app … https://www.instagram.com/p/BcsKTNNn51c/\""
      ]
     },
     "execution_count": 9,
     "metadata": {},
     "output_type": "execute_result"
    }
   ],
   "source": [
    "data.tweet[24]"
   ]
  },
  {
   "cell_type": "code",
   "execution_count": 10,
   "metadata": {
    "colab": {
     "base_uri": "https://localhost:8080/",
     "height": 35
    },
    "colab_type": "code",
    "id": "l59PYr1ceX4h",
    "outputId": "c37841df-1f1e-4b82-8b98-06b376d84145"
   },
   "outputs": [
    {
     "data": {
      "text/plain": [
       "'It is time for new wallpapers #phone #wallpapers #wall #screen #galaxy #samsung #app … https://www.instagram.com/p/BcsKTNNn51c/'"
      ]
     },
     "execution_count": 10,
     "metadata": {},
     "output_type": "execute_result"
    }
   ],
   "source": [
    "newString=re.sub(r\"'s\\b\",\" is\",data.tweet[24])  #converting It's to It is\n",
    "newString"
   ]
  },
  {
   "cell_type": "markdown",
   "metadata": {
    "colab_type": "text",
    "id": "Weu0U0RSf7cB"
   },
   "source": [
    "Removing user mention"
   ]
  },
  {
   "cell_type": "code",
   "execution_count": 11,
   "metadata": {
    "colab": {
     "base_uri": "https://localhost:8080/",
     "height": 35
    },
    "colab_type": "code",
    "id": "QLjwSIjMeX73",
    "outputId": "7291b1b7-e562-4453-ff66-e395a19c40cc"
   },
   "outputs": [
    {
     "data": {
      "text/plain": [
       "'Ha! Not heavy machinery but it does what I need it to. @Apple really dropped the ball with that design. #drinkyourhaterade'"
      ]
     },
     "execution_count": 11,
     "metadata": {},
     "output_type": "execute_result"
    }
   ],
   "source": [
    "data.tweet[11]"
   ]
  },
  {
   "cell_type": "code",
   "execution_count": 12,
   "metadata": {
    "colab": {
     "base_uri": "https://localhost:8080/",
     "height": 35
    },
    "colab_type": "code",
    "id": "3cTrqbKveX_S",
    "outputId": "2564e2dd-8124-4020-d07c-5dcc98c57a2e"
   },
   "outputs": [
    {
     "name": "stdout",
     "output_type": "stream",
     "text": [
      "Ha! Not heavy machinery but it does what I need it to.  really dropped the ball with that design. #drinkyourhaterade\n"
     ]
    }
   ],
   "source": [
    "newString=re.sub(r'@[A-Za-z0-9]+','',data.tweet[11])\n",
    "print(newString)"
   ]
  },
  {
   "cell_type": "markdown",
   "metadata": {
    "colab_type": "text",
    "id": "DyEuRJVJgCFp"
   },
   "source": [
    "Removing hashtag symbol"
   ]
  },
  {
   "cell_type": "code",
   "execution_count": 13,
   "metadata": {
    "colab": {
     "base_uri": "https://localhost:8080/",
     "height": 35
    },
    "colab_type": "code",
    "id": "DDUljCZDeYCx",
    "outputId": "244cf5c3-44e5-4362-c994-59b6dc3aa4cd"
   },
   "outputs": [
    {
     "data": {
      "text/plain": [
       "'#fingerprint #Pregnancy Test https://goo.gl/h1MfQV #android #apps #beautiful #cute #health #igers #iphoneonly #iphonesia #iphone'"
      ]
     },
     "execution_count": 13,
     "metadata": {},
     "output_type": "execute_result"
    }
   ],
   "source": [
    "data.tweet[0]"
   ]
  },
  {
   "cell_type": "code",
   "execution_count": 14,
   "metadata": {
    "colab": {
     "base_uri": "https://localhost:8080/",
     "height": 35
    },
    "colab_type": "code",
    "id": "zYLrBGQzeYGC",
    "outputId": "6283ec79-1dcb-498b-a617-e0713f133e19"
   },
   "outputs": [
    {
     "name": "stdout",
     "output_type": "stream",
     "text": [
      "fingerprint Pregnancy Test https://goo.gl/h1MfQV android apps beautiful cute health igers iphoneonly iphonesia iphone\n"
     ]
    }
   ],
   "source": [
    "newString=re.sub(\"#\",\"\",data.tweet[0])\n",
    "print(newString)"
   ]
  },
  {
   "cell_type": "markdown",
   "metadata": {
    "colab_type": "text",
    "id": "KEXnExoggIDV"
   },
   "source": [
    "Removal of links"
   ]
  },
  {
   "cell_type": "code",
   "execution_count": 15,
   "metadata": {
    "colab": {
     "base_uri": "https://localhost:8080/",
     "height": 35
    },
    "colab_type": "code",
    "id": "_R_x-I2KeYI4",
    "outputId": "e0914c28-1b21-4e3b-bb99-52c24c1e960d"
   },
   "outputs": [
    {
     "data": {
      "text/plain": [
       "'Finally a transparant silicon case ^^ Thanks to my uncle :) #yay #Sony #Xperia #S #sonyexperias… http://instagram.com/p/YGEt5JC6JM/'"
      ]
     },
     "execution_count": 15,
     "metadata": {},
     "output_type": "execute_result"
    }
   ],
   "source": [
    "data.tweet[1]"
   ]
  },
  {
   "cell_type": "code",
   "execution_count": 16,
   "metadata": {
    "colab": {
     "base_uri": "https://localhost:8080/",
     "height": 35
    },
    "colab_type": "code",
    "id": "u1XdFoiSeYMJ",
    "outputId": "3b5b2c41-55d4-4b57-d66c-ded5f195522f"
   },
   "outputs": [
    {
     "data": {
      "text/plain": [
       "'Finally a transparant silicon case ^^ Thanks to my uncle :) #yay #Sony #Xperia #S #sonyexperias… '"
      ]
     },
     "execution_count": 16,
     "metadata": {},
     "output_type": "execute_result"
    }
   ],
   "source": [
    "newString=re.sub(r'http\\S+', '', data.tweet[1])\n",
    "newString"
   ]
  },
  {
   "cell_type": "markdown",
   "metadata": {
    "colab_type": "text",
    "id": "lkBHikbggPP5"
   },
   "source": [
    "Removing special characters, punctuations, numbers"
   ]
  },
  {
   "cell_type": "code",
   "execution_count": 17,
   "metadata": {
    "colab": {
     "base_uri": "https://localhost:8080/",
     "height": 35
    },
    "colab_type": "code",
    "id": "W700TJOSeYYB",
    "outputId": "f11556ab-8e5e-4ab3-8190-5ee1c234c3f6"
   },
   "outputs": [
    {
     "data": {
      "text/plain": [
       "'1.05 billion for 3 patents where there is prior art = 300 millions each = patent trolls are partying now thanks to Apple #apple'"
      ]
     },
     "execution_count": 17,
     "metadata": {},
     "output_type": "execute_result"
    }
   ],
   "source": [
    "data.tweet[25]"
   ]
  },
  {
   "cell_type": "code",
   "execution_count": 18,
   "metadata": {
    "colab": {
     "base_uri": "https://localhost:8080/",
     "height": 35
    },
    "colab_type": "code",
    "id": "HWApjkI1eYb6",
    "outputId": "029f7be7-4b47-4f3e-f2b4-a1ac5438af33"
   },
   "outputs": [
    {
     "data": {
      "text/plain": [
       "'     billion for   patents where there is prior art       millions each   patent trolls are partying now thanks to Apple  apple'"
      ]
     },
     "execution_count": 18,
     "metadata": {},
     "output_type": "execute_result"
    }
   ],
   "source": [
    "newString=re.sub(\"[^a-zA-Z]\", \" \", data.tweet[25])\n",
    "newString"
   ]
  },
  {
   "cell_type": "markdown",
   "metadata": {
    "colab_type": "text",
    "id": "0_6obpCzgXKM"
   },
   "source": [
    "Removal of stop words:\n",
    "\n",
    "Stop words usually refers to the most commonly used words in a language (such as “the”, “a”, “an”, “in”)\n",
    "\n",
    "This step is a one of the important steps to come up with more robust input"
   ]
  },
  {
   "cell_type": "code",
   "execution_count": 19,
   "metadata": {
    "colab": {
     "base_uri": "https://localhost:8080/",
     "height": 54
    },
    "colab_type": "code",
    "id": "6g4zl1CaeYiJ",
    "outputId": "6f179c0e-5114-4aed-dd2e-037e84f776b1"
   },
   "outputs": [
    {
     "name": "stderr",
     "output_type": "stream",
     "text": [
      "[nltk_data] Downloading package stopwords to\n",
      "[nltk_data]     C:\\Users\\yadav\\AppData\\Roaming\\nltk_data...\n",
      "[nltk_data]   Package stopwords is already up-to-date!\n"
     ]
    }
   ],
   "source": [
    "nltk.download('stopwords')\n",
    "stop_words = set(stopwords.words('english')) "
   ]
  },
  {
   "cell_type": "markdown",
   "metadata": {
    "colab_type": "text",
    "id": "iFg4Tvj7giRr"
   },
   "source": [
    "Text Normalization\n",
    "\n",
    "There are 2 types of normalization techniques.\n",
    "\n",
    "1.Stemming is the process of converting the words of a sentence to its non-changing portions.\n",
    "\n",
    "For example, given the words of amusing, amusement, and amused, the stem would be amus.\n",
    "\n",
    "2.Lemmatization is the process of converting the words of a sentence to its dictionary form.\n",
    "\n",
    "For example, given the words amusement, amusing, and amused, the lemma for each and all would be amuse.\n",
    "\n",
    "I prefer Lemmatization over Stemming since lemma results in dictionary form."
   ]
  },
  {
   "cell_type": "code",
   "execution_count": 20,
   "metadata": {
    "colab": {
     "base_uri": "https://localhost:8080/",
     "height": 35
    },
    "colab_type": "code",
    "id": "2bwTRNx4eYld",
    "outputId": "18472662-2910-4bb0-f7b5-f95e9272aa9e"
   },
   "outputs": [
    {
     "data": {
      "text/plain": [
       "'Gain Followers RT This MUST FOLLOW ME I FOLLOW BACK Follow everyone who rts Gain #iphone #sougofollow #ff i7si'"
      ]
     },
     "execution_count": 20,
     "metadata": {},
     "output_type": "execute_result"
    }
   ],
   "source": [
    "data.tweet[63]"
   ]
  },
  {
   "cell_type": "code",
   "execution_count": 21,
   "metadata": {
    "colab": {
     "base_uri": "https://localhost:8080/",
     "height": 35
    },
    "colab_type": "code",
    "id": "xu3J2yfHgeBr",
    "outputId": "c47471f6-f145-4ea6-c4ea-200ec85dde70"
   },
   "outputs": [
    {
     "data": {
      "text/plain": [
       "'gain follower rt this must follow me i follow back follow everyone who rts gain #iphone #sougofollow #ff i7si '"
      ]
     },
     "execution_count": 21,
     "metadata": {},
     "output_type": "execute_result"
    }
   ],
   "source": [
    "lemmatizer = WordNetLemmatizer() \n",
    "new_sentence=''\n",
    "for i in data.tweet[63].split():\n",
    "  new_sentence=new_sentence+lemmatizer.lemmatize(i.lower())+' '\n",
    "new_sentence"
   ]
  },
  {
   "cell_type": "code",
   "execution_count": 22,
   "metadata": {
    "colab": {},
    "colab_type": "code",
    "id": "Vig--P2ngeEu"
   },
   "outputs": [],
   "source": [
    "contraction_mapping = {\"ain't\": \"is not\", \"aren't\": \"are not\",\"can't\": \"cannot\", \"'cause\": \"because\", \"could've\": \"could have\", \"couldn't\": \"could not\",\n",
    "                           \"didn't\": \"did not\",  \"doesn't\": \"does not\", \"don't\": \"do not\", \"hadn't\": \"had not\", \"hasn't\": \"has not\", \"haven't\": \"have not\",\n",
    "                           \"he'd\": \"he would\",\"he'll\": \"he will\", \"he's\": \"he is\", \"how'd\": \"how did\", \"how'd'y\": \"how do you\", \"how'll\": \"how will\", \"how's\": \"how is\",\n",
    "                           \"I'd\": \"I would\", \"I'd've\": \"I would have\", \"I'll\": \"I will\", \"I'll've\": \"I will have\",\"I'm\": \"I am\", \"I've\": \"I have\", \"i'd\": \"i would\",\n",
    "                           \"i'd've\": \"i would have\", \"i'll\": \"i will\",  \"i'll've\": \"i will have\",\"i'm\": \"i am\", \"i've\": \"i have\", \"isn't\": \"is not\", \"it'd\": \"it would\",\n",
    "                           \"it'd've\": \"it would have\", \"it'll\": \"it will\", \"it'll've\": \"it will have\",\"it's\": \"it is\", \"let's\": \"let us\", \"ma'am\": \"madam\",\n",
    "                           \"mayn't\": \"may not\", \"might've\": \"might have\",\"mightn't\": \"might not\",\"mightn't've\": \"might not have\", \"must've\": \"must have\",\n",
    "                           \"mustn't\": \"must not\", \"mustn't've\": \"must not have\", \"needn't\": \"need not\", \"needn't've\": \"need not have\",\"o'clock\": \"of the clock\",\n",
    "                           \"oughtn't\": \"ought not\", \"oughtn't've\": \"ought not have\", \"shan't\": \"shall not\", \"sha'n't\": \"shall not\", \"shan't've\": \"shall not have\",\n",
    "                           \"she'd\": \"she would\", \"she'd've\": \"she would have\", \"she'll\": \"she will\", \"she'll've\": \"she will have\", \"she's\": \"she is\",\n",
    "                           \"should've\": \"should have\", \"shouldn't\": \"should not\", \"shouldn't've\": \"should not have\", \"so've\": \"so have\",\"so's\": \"so as\",\n",
    "                           \"this's\": \"this is\",\"that'd\": \"that would\", \"that'd've\": \"that would have\", \"that's\": \"that is\", \"there'd\": \"there would\",\n",
    "                           \"there'd've\": \"there would have\", \"there's\": \"there is\", \"here's\": \"here is\",\"they'd\": \"they would\", \"they'd've\": \"they would have\",\n",
    "                           \"they'll\": \"they will\", \"they'll've\": \"they will have\", \"they're\": \"they are\", \"they've\": \"they have\", \"to've\": \"to have\",\n",
    "                           \"wasn't\": \"was not\", \"we'd\": \"we would\", \"we'd've\": \"we would have\", \"we'll\": \"we will\", \"we'll've\": \"we will have\", \"we're\": \"we are\",\n",
    "                           \"we've\": \"we have\", \"weren't\": \"were not\", \"what'll\": \"what will\", \"what'll've\": \"what will have\", \"what're\": \"what are\",\n",
    "                           \"what's\": \"what is\", \"what've\": \"what have\", \"when's\": \"when is\", \"when've\": \"when have\", \"where'd\": \"where did\", \"where's\": \"where is\",\n",
    "                           \"where've\": \"where have\", \"who'll\": \"who will\", \"who'll've\": \"who will have\", \"who's\": \"who is\", \"who've\": \"who have\",\n",
    "                           \"why's\": \"why is\", \"why've\": \"why have\", \"will've\": \"will have\", \"won't\": \"will not\", \"won't've\": \"will not have\",\n",
    "                           \"would've\": \"would have\", \"wouldn't\": \"would not\", \"wouldn't've\": \"would not have\", \"y'all\": \"you all\",\n",
    "                           \"y'all'd\": \"you all would\",\"y'all'd've\": \"you all would have\",\"y'all're\": \"you all are\",\"y'all've\": \"you all have\",\n",
    "                           \"you'd\": \"you would\", \"you'd've\": \"you would have\", \"you'll\": \"you will\", \"you'll've\": \"you will have\",\n",
    "                           \"you're\": \"you are\", \"you've\": \"you have\"}"
   ]
  },
  {
   "cell_type": "code",
   "execution_count": 23,
   "metadata": {
    "colab": {},
    "colab_type": "code",
    "id": "RDUSTmI7gx3f"
   },
   "outputs": [],
   "source": [
    "def tweet_cleaner(text):\n",
    "    newString=re.sub(r'@[A-Za-z0-9]+','',text)                     #removing user mentions\n",
    "    newString=re.sub(\"#\",\"\",newString)                             #removing hashtag symbol\n",
    "    newString= ' '.join([contraction_mapping[t] if t in contraction_mapping else t for t in newString.split(\" \")]) #contraction mapping\n",
    "    newString= re.sub(r'http\\S+', '', newString)                   #removing links\n",
    "    newString= re.sub(r\"'s\\b\",\"\",newString)                        #removing 's\n",
    "    letters_only = re.sub(\"[^a-zA-Z]\", \" \", newString)             #Fetching out only letters\n",
    "    lower_case = letters_only.lower()                              #converting everything to lowercase\n",
    "    tokens = [w for w in lower_case.split() if not w in stop_words]#stopwords removal\n",
    "    newString=''\n",
    "    for i in tokens:                                                 \n",
    "        newString=newString+lemmatizer.lemmatize(i)+' '            #converting words to lemma                               \n",
    "    return newString.strip() "
   ]
  },
  {
   "cell_type": "code",
   "execution_count": 24,
   "metadata": {
    "colab": {
     "base_uri": "https://localhost:8080/",
     "height": 55
    },
    "colab_type": "code",
    "id": "zSb4qDzSgx6l",
    "outputId": "142c79b8-ac2c-4f8d-b518-3de73f768780"
   },
   "outputs": [
    {
     "name": "stdout",
     "output_type": "stream",
     "text": [
      "['fingerprint pregnancy test android apps beautiful cute health igers iphoneonly iphonesia iphone', 'finally transparant silicon case thanks uncle yay sony xperia sonyexperias', 'love would go talk makememories unplug relax iphone smartphone wifi connect', 'wired know george made way iphone cute daventry home', 'amazing service apple even talk question unless pay stupid support']\n"
     ]
    }
   ],
   "source": [
    "cleaned_tweets = []\n",
    "for i in data.tweet:\n",
    "  cleaned_tweets.append(tweet_cleaner(i))\n",
    "print(cleaned_tweets[:5])   #print top 5 records"
   ]
  },
  {
   "cell_type": "code",
   "execution_count": 25,
   "metadata": {
    "colab": {},
    "colab_type": "code",
    "id": "vImFoRxigeLI"
   },
   "outputs": [],
   "source": [
    "data['cleaned_tweets']= cleaned_tweets  #creating new column "
   ]
  },
  {
   "cell_type": "markdown",
   "metadata": {
    "colab_type": "text",
    "id": "JcaBEhBThFbE"
   },
   "source": [
    "**Data Visualization**\n",
    "\n",
    "Let us understand the most commonly used words in the text before cleaning"
   ]
  },
  {
   "cell_type": "code",
   "execution_count": 26,
   "metadata": {
    "colab": {
     "base_uri": "https://localhost:8080/",
     "height": 409
    },
    "colab_type": "code",
    "id": "HYmvLcD1hDB6",
    "outputId": "6c7ced42-6d9c-48a2-d820-66d1ca0410f2"
   },
   "outputs": [
    {
     "data": {
      "image/png": "[encoded data removed]",
      "text/plain": [
       "<Figure size 864x360 with 1 Axes>"
      ]
     },
     "metadata": {
      "needs_background": "light"
     },
     "output_type": "display_data"
    }
   ],
   "source": [
    "all_words = []\n",
    "for line in list(data['tweet']):\n",
    "    words = line.split()\n",
    "    for word in words:\n",
    "        all_words.append(word)\n",
    "        \n",
    "plt.figure(figsize=(12,5))\n",
    "plt.title('Top 25 most common words')\n",
    "plt.xticks(fontsize=13, rotation=90)\n",
    "fd = nltk.FreqDist(all_words)\n",
    "fd.plot(25,cumulative=False)"
   ]
  },
  {
   "cell_type": "markdown",
   "metadata": {
    "colab_type": "text",
    "id": "A9nYr6cHhNTF"
   },
   "source": [
    "From above plot, we can infer that most of the tweets are related to iphone, apple, samsung, sony but punctuations are also included in top common words.\n",
    "\n",
    "Let us visualize the same plot after preprocessing"
   ]
  },
  {
   "cell_type": "code",
   "execution_count": 27,
   "metadata": {
    "colab": {
     "base_uri": "https://localhost:8080/",
     "height": 406
    },
    "colab_type": "code",
    "id": "8bUiNTVAhDE6",
    "outputId": "ca352d86-19cb-46f6-a1b3-bd0e5ed6d5f8"
   },
   "outputs": [
    {
     "data": {
      "image/png": "[encoded data removed]",
      "text/plain": [
       "<Figure size 864x360 with 1 Axes>"
      ]
     },
     "metadata": {
      "needs_background": "light"
     },
     "output_type": "display_data"
    }
   ],
   "source": [
    "all_words = []\n",
    "for line in list(data['cleaned_tweets']):\n",
    "    words = line.split()\n",
    "    for word in words:\n",
    "        all_words.append(word)\n",
    "        \n",
    "plt.figure(figsize=(12,5))\n",
    "plt.title('Top 25 most common words')\n",
    "plt.xticks(fontsize=13, rotation=90)\n",
    "fd = nltk.FreqDist(all_words)\n",
    "fd.plot(25,cumulative=False)   "
   ]
  },
  {
   "cell_type": "markdown",
   "metadata": {
    "colab_type": "text",
    "id": "R8NQOh5shVGB"
   },
   "source": [
    "From the above plot, we can observe a few more common words like instagram, love, cute, twitter, phone, rt (which stands for re-tweeted)"
   ]
  },
  {
   "cell_type": "markdown",
   "metadata": {
    "colab_type": "text",
    "id": "GCxrmghHhXlC"
   },
   "source": [
    "**Model building**\n",
    "\n",
    "TF-IDF features\n",
    "\n",
    "The main idea behinf tf-idf is to increase the importance of the words that occur in the subset of documents rather than the words occuring in all the documents\n",
    "\n",
    "TF-IDF score of every word in vocabulary is calculated and used to build the feature space"
   ]
  },
  {
   "cell_type": "code",
   "execution_count": 28,
   "metadata": {
    "colab": {
     "base_uri": "https://localhost:8080/",
     "height": 35
    },
    "colab_type": "code",
    "id": "9EiWuC9yhKCC",
    "outputId": "b048bd18-b754-47e8-aed8-3e40a68e34da"
   },
   "outputs": [
    {
     "data": {
      "text/plain": [
       "(7920, 15888)"
      ]
     },
     "execution_count": 28,
     "metadata": {},
     "output_type": "execute_result"
    }
   ],
   "source": [
    "vectorizer = TfidfVectorizer() \n",
    "features = vectorizer.fit_transform(data['cleaned_tweets'])\n",
    "features.shape"
   ]
  },
  {
   "cell_type": "markdown",
   "metadata": {
    "colab_type": "text",
    "id": "9g0rc62WiXLk"
   },
   "source": [
    "Every word in the vocabulary is a feature"
   ]
  },
  {
   "cell_type": "code",
   "execution_count": 29,
   "metadata": {
    "colab": {
     "base_uri": "https://localhost:8080/",
     "height": 18217
    },
    "colab_type": "code",
    "id": "vLANhKHMhKFY",
    "outputId": "a584188f-aa6a-440f-b1e0-66d910fc8905"
   },
   "outputs": [
    {
     "data": {
      "text/plain": [
       "['aa',\n",
       " 'aaaahhhhhhh',\n",
       " 'aag',\n",
       " 'aah',\n",
       " 'aalborg',\n",
       " 'aand',\n",
       " 'aapl',\n",
       " 'aarhus',\n",
       " 'aaron',\n",
       " 'aarp',\n",
       " 'aarrrggghhhh',\n",
       " 'aashamsakal',\n",
       " 'aaydojbfkq',\n",
       " 'aayp',\n",
       " 'ab',\n",
       " 'abah',\n",
       " 'abareta',\n",
       " 'abay',\n",
       " 'abb',\n",
       " 'abc',\n",
       " 'abdou',\n",
       " 'abe',\n",
       " 'aber',\n",
       " 'abercrombie',\n",
       " 'abi',\n",
       " 'ability',\n",
       " 'abit',\n",
       " 'able',\n",
       " 'ableton',\n",
       " 'abnqum',\n",
       " 'aboard',\n",
       " 'aboutalook',\n",
       " 'aboutdamntime',\n",
       " 'abouttime',\n",
       " 'abouttonight',\n",
       " 'abp',\n",
       " 'abscbn',\n",
       " 'absence',\n",
       " 'absolute',\n",
       " 'absolutely',\n",
       " 'absurd',\n",
       " 'abt',\n",
       " 'abu',\n",
       " 'abudhabi',\n",
       " 'abuja',\n",
       " 'abujacity',\n",
       " 'abujafct',\n",
       " 'abujapeople',\n",
       " 'abujaphones',\n",
       " 'abukamalyasinpic',\n",
       " 'abuse',\n",
       " 'abxq',\n",
       " 'ac',\n",
       " 'academia',\n",
       " 'academic',\n",
       " 'academy',\n",
       " 'acap',\n",
       " 'acc',\n",
       " 'accelerate',\n",
       " 'accept',\n",
       " 'acceptable',\n",
       " 'accepted',\n",
       " 'accepts',\n",
       " 'accesories',\n",
       " 'accesorios',\n",
       " 'access',\n",
       " 'accessed',\n",
       " 'accessible',\n",
       " 'accessoires',\n",
       " 'accessori',\n",
       " 'accessoriespic',\n",
       " 'accessory',\n",
       " 'accessorypic',\n",
       " 'accident',\n",
       " 'accidental',\n",
       " 'accidentally',\n",
       " 'accompaniment',\n",
       " 'accomplish',\n",
       " 'accomplished',\n",
       " 'according',\n",
       " 'account',\n",
       " 'accounted',\n",
       " 'accounting',\n",
       " 'accountpic',\n",
       " 'accra',\n",
       " 'acct',\n",
       " 'accumulate',\n",
       " 'accurate',\n",
       " 'ace',\n",
       " 'acedemy',\n",
       " 'acer',\n",
       " 'acesse',\n",
       " 'achi',\n",
       " 'achieved',\n",
       " 'achievement',\n",
       " 'acid',\n",
       " 'acknowledges',\n",
       " 'aconcagua',\n",
       " 'acquaintance',\n",
       " 'acquiring',\n",
       " 'acquisition',\n",
       " 'acquisto',\n",
       " 'acrobat',\n",
       " 'across',\n",
       " 'act',\n",
       " 'acteur',\n",
       " 'acting',\n",
       " 'action',\n",
       " 'actipatch',\n",
       " 'actitudpositiva',\n",
       " 'activate',\n",
       " 'activation',\n",
       " 'active',\n",
       " 'activision',\n",
       " 'actor',\n",
       " 'actorslife',\n",
       " 'actress',\n",
       " 'actual',\n",
       " 'actually',\n",
       " 'acuario',\n",
       " 'ad',\n",
       " 'adam',\n",
       " 'adamsandler',\n",
       " 'adapter',\n",
       " 'adaptive',\n",
       " 'adaptor',\n",
       " 'adbusters',\n",
       " 'add',\n",
       " 'added',\n",
       " 'addict',\n",
       " 'addicted',\n",
       " 'addicting',\n",
       " 'addiction',\n",
       " 'addictive',\n",
       " 'adding',\n",
       " 'addition',\n",
       " 'addon',\n",
       " 'address',\n",
       " 'ade',\n",
       " 'adequately',\n",
       " 'adeyhdent',\n",
       " 'adf',\n",
       " 'adh',\n",
       " 'adhi',\n",
       " 'adidas',\n",
       " 'adidasoriginals',\n",
       " 'aditya',\n",
       " 'adjust',\n",
       " 'adm',\n",
       " 'administration',\n",
       " 'administrator',\n",
       " 'admit',\n",
       " 'ado',\n",
       " 'adobe',\n",
       " 'adorable',\n",
       " 'adoration',\n",
       " 'adorbs',\n",
       " 'adore',\n",
       " 'adorn',\n",
       " 'adornthewicked',\n",
       " 'adoro',\n",
       " 'adrenalina',\n",
       " 'adsrrb',\n",
       " 'adult',\n",
       " 'advance',\n",
       " 'advanced',\n",
       " 'advantage',\n",
       " 'adventure',\n",
       " 'advert',\n",
       " 'advertfail',\n",
       " 'advertised',\n",
       " 'advertisement',\n",
       " 'advertising',\n",
       " 'advice',\n",
       " 'advised',\n",
       " 'advisor',\n",
       " 'advocare',\n",
       " 'adw',\n",
       " 'adwords',\n",
       " 'adwyzo',\n",
       " 'adxvld',\n",
       " 'ae',\n",
       " 'aec',\n",
       " 'aeihvv',\n",
       " 'aeni',\n",
       " 'aeon',\n",
       " 'aerial',\n",
       " 'aerialist',\n",
       " 'af',\n",
       " 'afclmrv',\n",
       " 'afdvg',\n",
       " 'afemnqqs',\n",
       " 'affie',\n",
       " 'affirmation',\n",
       " 'affliate',\n",
       " 'afford',\n",
       " 'affordable',\n",
       " 'afformention',\n",
       " 'afghan',\n",
       " 'afraid',\n",
       " 'afreaid',\n",
       " 'africa',\n",
       " 'africaboots',\n",
       " 'afrolatina',\n",
       " 'aftayddv',\n",
       " 'afterhours',\n",
       " 'afteriplisnationalized',\n",
       " 'afterlight',\n",
       " 'afternoon',\n",
       " 'afterwards',\n",
       " 'afterwork',\n",
       " 'ag',\n",
       " 'agad',\n",
       " 'agafay',\n",
       " 'againpic',\n",
       " 'againstapple',\n",
       " 'agchat',\n",
       " 'age',\n",
       " 'aged',\n",
       " 'agency',\n",
       " 'agent',\n",
       " 'agfa',\n",
       " 'aggravated',\n",
       " 'agh',\n",
       " 'aghif',\n",
       " 'agl',\n",
       " 'aglknox',\n",
       " 'agnee',\n",
       " 'agneeadventures',\n",
       " 'ago',\n",
       " 'agony',\n",
       " 'agree',\n",
       " 'agreeing',\n",
       " 'agriculture',\n",
       " 'agua',\n",
       " 'agustus',\n",
       " 'agyea',\n",
       " 'agzemenxrd',\n",
       " 'ah',\n",
       " 'aha',\n",
       " 'ahahah',\n",
       " 'ahahaha',\n",
       " 'ahahahaha',\n",
       " 'ahead',\n",
       " 'ahg',\n",
       " 'ahh',\n",
       " 'ahhh',\n",
       " 'ahhhh',\n",
       " 'ahhhhh',\n",
       " 'ahhhhhhh',\n",
       " 'aholes',\n",
       " 'ahora',\n",
       " 'ahs',\n",
       " 'ai',\n",
       " 'aid',\n",
       " 'aimed',\n",
       " 'aimee',\n",
       " 'aimrggouij',\n",
       " 'air',\n",
       " 'airbook',\n",
       " 'aircraft',\n",
       " 'airforce',\n",
       " 'airjordan',\n",
       " 'airmax',\n",
       " 'airpads',\n",
       " 'airplane',\n",
       " 'airplay',\n",
       " 'airpods',\n",
       " 'airport',\n",
       " 'aisle',\n",
       " 'aivshrj',\n",
       " 'aj',\n",
       " 'ajfonemnet',\n",
       " 'ajw',\n",
       " 'ajwkwfqe',\n",
       " 'ak',\n",
       " 'aka',\n",
       " 'akey',\n",
       " 'akhfwnsarb',\n",
       " 'akovocifsq',\n",
       " 'al',\n",
       " 'ala',\n",
       " 'alan',\n",
       " 'alarm',\n",
       " 'alaska',\n",
       " 'alaskanmalamute',\n",
       " 'alay',\n",
       " 'album',\n",
       " 'albumart',\n",
       " 'albumcover',\n",
       " 'albumpic',\n",
       " 'alcala',\n",
       " 'alchemy',\n",
       " 'alcohol',\n",
       " 'ale',\n",
       " 'alert',\n",
       " 'alex',\n",
       " 'alexa',\n",
       " 'alexionice',\n",
       " 'alfa',\n",
       " 'algerian',\n",
       " 'algonquin',\n",
       " 'alhamdulillah',\n",
       " 'alia',\n",
       " 'alice',\n",
       " 'alien',\n",
       " 'alienware',\n",
       " 'aliexpress',\n",
       " 'aligned',\n",
       " 'alike',\n",
       " 'aliusaexpress',\n",
       " 'alive',\n",
       " 'alkaline',\n",
       " 'allah',\n",
       " 'allcountriesrockwit',\n",
       " 'allday',\n",
       " 'alle',\n",
       " 'allegedly',\n",
       " 'alleges',\n",
       " 'allen',\n",
       " 'allergic',\n",
       " 'allergy',\n",
       " 'allianz',\n",
       " 'alligator',\n",
       " 'alligatorskin',\n",
       " 'alligatorstrap',\n",
       " 'alliwantistoplayinfamous',\n",
       " 'allllll',\n",
       " 'alllllll',\n",
       " 'allmine',\n",
       " 'allow',\n",
       " 'allowed',\n",
       " 'allowing',\n",
       " 'allprofit',\n",
       " 'allsmiles',\n",
       " 'allstar',\n",
       " 'allstars',\n",
       " 'allstate',\n",
       " 'alltheway',\n",
       " 'allthose',\n",
       " 'allure',\n",
       " 'ally',\n",
       " 'almond',\n",
       " 'almonddream',\n",
       " 'almost',\n",
       " 'almostdead',\n",
       " 'alomran',\n",
       " 'alone',\n",
       " 'along',\n",
       " 'alot',\n",
       " 'alp',\n",
       " 'alpa',\n",
       " 'alpha',\n",
       " 'alphaa',\n",
       " 'alpine',\n",
       " 'alrdy',\n",
       " 'already',\n",
       " 'alright',\n",
       " 'alryt',\n",
       " 'also',\n",
       " 'alt',\n",
       " 'altabrisa',\n",
       " 'alternate',\n",
       " 'alternative',\n",
       " 'although',\n",
       " 'altm',\n",
       " 'alto',\n",
       " 'altruism',\n",
       " 'always',\n",
       " 'alwayscrashes',\n",
       " 'alwayslost',\n",
       " 'alwaysme',\n",
       " 'alwaysomethingbiggerandbetter',\n",
       " 'alyssa',\n",
       " 'amagetonline',\n",
       " 'amagetstores',\n",
       " 'amaishi',\n",
       " 'amanda',\n",
       " 'amani',\n",
       " 'amanzing',\n",
       " 'amapril',\n",
       " 'amateurphotography',\n",
       " 'amazed',\n",
       " 'amazes',\n",
       " 'amazing',\n",
       " 'amazingcar',\n",
       " 'amazingly',\n",
       " 'amazon',\n",
       " 'amazonalexa',\n",
       " 'amazondeal',\n",
       " 'amazonfiretv',\n",
       " 'amazonpic',\n",
       " 'amazonprimeday',\n",
       " 'amazonprimedayamazonpic',\n",
       " 'amazonprimevideo',\n",
       " 'amazonprme',\n",
       " 'amber',\n",
       " 'amd',\n",
       " 'ameliaj',\n",
       " 'america',\n",
       " 'american',\n",
       " 'americanair',\n",
       " 'americanbully',\n",
       " 'americanidol',\n",
       " 'americanpitbull',\n",
       " 'amfenster',\n",
       " 'amigo',\n",
       " 'amjune',\n",
       " 'amman',\n",
       " 'ammay',\n",
       " 'amnesia',\n",
       " 'amo',\n",
       " 'amomuitotudoisso',\n",
       " 'among',\n",
       " 'amor',\n",
       " 'amore',\n",
       " 'amount',\n",
       " 'amour',\n",
       " 'amp',\n",
       " 'amplify',\n",
       " 'amqlwyttex',\n",
       " 'amsterdam',\n",
       " 'amtra',\n",
       " 'amuse',\n",
       " 'amused',\n",
       " 'amusement',\n",
       " 'amwf',\n",
       " 'amyiqk',\n",
       " 'amylee',\n",
       " 'an',\n",
       " 'ana',\n",
       " 'anaheim',\n",
       " 'analog',\n",
       " 'analoglondon',\n",
       " 'analogue',\n",
       " 'analyst',\n",
       " 'anand',\n",
       " 'anberlin',\n",
       " 'anchor',\n",
       " 'anchorage',\n",
       " 'andarilho',\n",
       " 'andfuck',\n",
       " 'anditsfinalsweek',\n",
       " 'andrew',\n",
       " 'andrewmccabe',\n",
       " 'andriod',\n",
       " 'android',\n",
       " 'androidalltheway',\n",
       " 'androidapp',\n",
       " 'androidcrew',\n",
       " 'androidfamily',\n",
       " 'androidftw',\n",
       " 'androidinstagram',\n",
       " 'androidlife',\n",
       " 'androidnesia',\n",
       " 'androidnextime',\n",
       " 'androidonly',\n",
       " 'androidpay',\n",
       " 'androidphone',\n",
       " 'androidpic',\n",
       " 'androidproblems',\n",
       " 'androidrules',\n",
       " 'androidsarebetter',\n",
       " 'androidwear',\n",
       " 'andropic',\n",
       " 'andy',\n",
       " 'andyfrasco',\n",
       " 'anflfunqek',\n",
       " 'anfplsx',\n",
       " 'ang',\n",
       " 'angel',\n",
       " 'anger',\n",
       " 'angiemarino',\n",
       " 'angkut',\n",
       " 'angry',\n",
       " 'angrybird',\n",
       " 'angrybirds',\n",
       " 'angrylaura',\n",
       " 'angrytweet',\n",
       " 'angst',\n",
       " 'aniccas',\n",
       " 'animal',\n",
       " 'animalaura',\n",
       " 'animalier',\n",
       " 'animallover',\n",
       " 'animalpic',\n",
       " 'animalshot',\n",
       " 'animasoft',\n",
       " 'animated',\n",
       " 'animation',\n",
       " 'anime',\n",
       " 'animoji',\n",
       " 'anji',\n",
       " 'ankara',\n",
       " 'ankermann',\n",
       " 'ankuriview',\n",
       " 'anltgwc',\n",
       " 'ann',\n",
       " 'anniversary',\n",
       " 'anniversarygift',\n",
       " 'announce',\n",
       " 'announcement',\n",
       " 'announces',\n",
       " 'announcing',\n",
       " 'annoyance',\n",
       " 'annoyed',\n",
       " 'annoying',\n",
       " 'annoys',\n",
       " 'annual',\n",
       " 'anonymous',\n",
       " 'another',\n",
       " 'anotherangrycustomer',\n",
       " 'anrnjcpspk',\n",
       " 'answer',\n",
       " 'antena',\n",
       " 'antenna',\n",
       " 'antennagate',\n",
       " 'anthing',\n",
       " 'anti',\n",
       " 'anticipation',\n",
       " 'antigua',\n",
       " 'antiquarius',\n",
       " 'antique',\n",
       " 'antivirus',\n",
       " 'antoine',\n",
       " 'anton',\n",
       " 'antonio',\n",
       " 'antoniotrillicoso',\n",
       " 'antwerp',\n",
       " 'anxiety',\n",
       " 'anybody',\n",
       " 'anyday',\n",
       " 'anymore',\n",
       " 'anyone',\n",
       " 'anything',\n",
       " 'anytime',\n",
       " 'anyway',\n",
       " 'anyways',\n",
       " 'anywhere',\n",
       " 'anz',\n",
       " 'anzde',\n",
       " 'aol',\n",
       " 'aorus',\n",
       " 'aovivo',\n",
       " 'ap',\n",
       " 'apart',\n",
       " 'apartment',\n",
       " 'apb',\n",
       " 'apbssk',\n",
       " 'apctp',\n",
       " 'ape',\n",
       " 'apel',\n",
       " 'aperitif',\n",
       " 'aperture',\n",
       " 'api',\n",
       " 'apic',\n",
       " 'aplacetolive',\n",
       " 'apocalyptic',\n",
       " 'apogee',\n",
       " 'apologise',\n",
       " 'apologize',\n",
       " 'apology',\n",
       " 'apoxoniphone',\n",
       " 'app',\n",
       " 'appaltas',\n",
       " 'apparatus',\n",
       " 'apparel',\n",
       " 'apparent',\n",
       " 'apparently',\n",
       " 'appealing',\n",
       " 'appear',\n",
       " 'appears',\n",
       " 'appgamer',\n",
       " 'apphookup',\n",
       " 'appl',\n",
       " 'applaud',\n",
       " 'apple',\n",
       " 'appleaddict',\n",
       " 'appleairpods',\n",
       " 'appleairport',\n",
       " 'applebees',\n",
       " 'appleboycott',\n",
       " 'applecake',\n",
       " 'applecare',\n",
       " 'applecinnamon',\n",
       " 'applecomputers',\n",
       " 'appleday',\n",
       " 'appleerror',\n",
       " 'appleevent',\n",
       " 'applefail',\n",
       " 'applefaithful',\n",
       " 'applefan',\n",
       " 'applefreak',\n",
       " 'applegeek',\n",
       " 'applegram',\n",
       " 'applehate',\n",
       " 'appleholicpic',\n",
       " 'appleid',\n",
       " 'appleidiots',\n",
       " 'appleiie',\n",
       " 'appleiosupdate',\n",
       " 'appleiphone',\n",
       " 'appleis',\n",
       " 'appleisevil',\n",
       " 'appleismonopolyandripoff',\n",
       " 'appleisshit',\n",
       " 'appleisstupid',\n",
       " 'appleit',\n",
       " 'applelife',\n",
       " 'applemacbook',\n",
       " 'appleman',\n",
       " 'applemaniac',\n",
       " 'applemaps',\n",
       " 'applemirror',\n",
       " 'applemusic',\n",
       " 'applemusicsucks',\n",
       " 'applenazi',\n",
       " 'applenerd',\n",
       " 'applenews',\n",
       " 'applenofuture',\n",
       " 'appleonly',\n",
       " 'applepay',\n",
       " 'applepic',\n",
       " 'applepicking',\n",
       " 'applepie',\n",
       " 'applertc',\n",
       " 'applesauce',\n",
       " 'applestore',\n",
       " 'applestoreistanbul',\n",
       " 'applesucks',\n",
       " 'applesupport',\n",
       " 'applesux',\n",
       " 'appletech',\n",
       " 'appleton',\n",
       " 'appletrifle',\n",
       " 'appleturnoverday',\n",
       " 'appletv',\n",
       " 'applewach',\n",
       " 'applewatch',\n",
       " 'applewatchband',\n",
       " 'applewatchpic',\n",
       " 'applewatchseries',\n",
       " 'applewatchsport',\n",
       " 'applex',\n",
       " 'appliance',\n",
       " 'application',\n",
       " 'applle',\n",
       " 'applover',\n",
       " 'apply',\n",
       " 'appointment',\n",
       " 'appotment',\n",
       " 'appreciate',\n",
       " 'appreciated',\n",
       " 'apprentice',\n",
       " 'appreview',\n",
       " 'approach',\n",
       " 'approve',\n",
       " 'approved',\n",
       " 'approximately',\n",
       " 'apps',\n",
       " 'appstate',\n",
       " 'appstore',\n",
       " 'appstrore',\n",
       " 'appsworld',\n",
       " 'appts',\n",
       " 'april',\n",
       " 'apts',\n",
       " 'apvma',\n",
       " 'apw',\n",
       " 'aq',\n",
       " 'aqua',\n",
       " 'aquaris',\n",
       " 'ar',\n",
       " 'arab',\n",
       " 'araba',\n",
       " 'arabian',\n",
       " 'arabic',\n",
       " 'arabiceyes',\n",
       " 'aragua',\n",
       " 'arc',\n",
       " 'arcadia',\n",
       " 'archite',\n",
       " 'architect',\n",
       " 'architecten',\n",
       " 'architecture',\n",
       " 'architektur',\n",
       " 'archive',\n",
       " 'arduous',\n",
       " 'area',\n",
       " 'arena',\n",
       " 'arequipa',\n",
       " 'areyoukiddingme',\n",
       " 'argentina',\n",
       " 'argh',\n",
       " 'arghhhhh',\n",
       " 'arghhhhhh',\n",
       " 'arginine',\n",
       " 'arguing',\n",
       " 'ari',\n",
       " 'arianastansareskinny',\n",
       " 'arianasurprise',\n",
       " 'ariane',\n",
       " 'ariel',\n",
       " 'aritoaru',\n",
       " 'arizona',\n",
       " 'arkit',\n",
       " 'arm',\n",
       " 'armada',\n",
       " 'armageddon',\n",
       " 'armani',\n",
       " 'armband',\n",
       " 'armcandy',\n",
       " 'armenian',\n",
       " 'army',\n",
       " 'armygirl',\n",
       " 'around',\n",
       " 'aroundme',\n",
       " 'arquitectura',\n",
       " 'arrival',\n",
       " 'arrive',\n",
       " 'arrived',\n",
       " 'arrives',\n",
       " 'arriving',\n",
       " 'arrn',\n",
       " 'arrogant',\n",
       " 'arrogent',\n",
       " 'arrow',\n",
       " 'arrr',\n",
       " 'arrrrgggghhhhhhh',\n",
       " 'arrrrrrgggggggggggg',\n",
       " 'arsalanchipic',\n",
       " 'arschsaft',\n",
       " 'arse',\n",
       " 'arsed',\n",
       " 'arsehole',\n",
       " 'arsenal',\n",
       " 'art',\n",
       " 'artdealer',\n",
       " 'arte',\n",
       " 'artgallery',\n",
       " 'article',\n",
       " 'artificialintelligence',\n",
       " 'artist',\n",
       " 'artista',\n",
       " 'artistic',\n",
       " 'artistsontwitter',\n",
       " 'artofpo',\n",
       " 'artofportr',\n",
       " 'artofportrait',\n",
       " 'artoftheday',\n",
       " 'artphoto',\n",
       " 'artphotography',\n",
       " 'artphotos',\n",
       " 'artpic',\n",
       " 'artpop',\n",
       " 'artsociety',\n",
       " 'artwork',\n",
       " 'arty',\n",
       " 'aruba',\n",
       " 'arunganesan',\n",
       " 'as',\n",
       " 'asap',\n",
       " 'asburypark',\n",
       " 'asburyparkboardwalk',\n",
       " 'ascend',\n",
       " 'asclqnsuom',\n",
       " 'aseries',\n",
       " 'asfhxxyhzj',\n",
       " 'ashdod',\n",
       " 'ashed',\n",
       " 'ashford',\n",
       " 'ashole',\n",
       " 'ashtag',\n",
       " 'asia',\n",
       " 'asian',\n",
       " 'asiangirl',\n",
       " 'asics',\n",
       " 'aside',\n",
       " 'asjq',\n",
       " 'ask',\n",
       " 'askdrandrew',\n",
       " 'asked',\n",
       " 'asking',\n",
       " 'askmeanything',\n",
       " 'askquestions',\n",
       " 'asks',\n",
       " 'askzayn',\n",
       " 'asleep',\n",
       " 'asokoro',\n",
       " 'asos',\n",
       " 'asot',\n",
       " 'aspect',\n",
       " 'aspettiamo',\n",
       " 'ass',\n",
       " 'assassinscreed',\n",
       " 'assault',\n",
       " 'assdfghjkl',\n",
       " 'assembly',\n",
       " 'assfaces',\n",
       " 'assfuck',\n",
       " 'asshole',\n",
       " 'assistance',\n",
       " 'assistant',\n",
       " 'assjuice',\n",
       " 'associate',\n",
       " 'associated',\n",
       " 'assume',\n",
       " 'assuming',\n",
       " 'asthma',\n",
       " 'aston',\n",
       " 'astonmartin',\n",
       " 'astounding',\n",
       " 'astro',\n",
       " 'aswell',\n",
       " 'at',\n",
       " 'atandtservice',\n",
       " 'ate',\n",
       " 'atelier',\n",
       " 'atexwxarl',\n",
       " 'atheist',\n",
       " 'athens',\n",
       " 'athlete',\n",
       " 'athome',\n",
       " 'ativ',\n",
       " 'atlanta',\n",
       " 'atlantic',\n",
       " 'atlast',\n",
       " 'atm',\n",
       " 'atmashelter',\n",
       " 'atmosphere',\n",
       " 'atomium',\n",
       " 'atop',\n",
       " 'atrix',\n",
       " 'atrt',\n",
       " 'att',\n",
       " 'attached',\n",
       " 'attack',\n",
       " 'attained',\n",
       " 'attempt',\n",
       " 'attendee',\n",
       " 'attention',\n",
       " 'attimes',\n",
       " 'attitude',\n",
       " 'attracted',\n",
       " 'attracting',\n",
       " 'attsux',\n",
       " 'atwfkn',\n",
       " 'atx',\n",
       " 'atxdogs',\n",
       " 'au',\n",
       " 'aubkpyjzwj',\n",
       " 'auch',\n",
       " 'auction',\n",
       " 'aud',\n",
       " 'audacity',\n",
       " 'audi',\n",
       " 'audio',\n",
       " 'audiophiles',\n",
       " 'audiosystem',\n",
       " 'audition',\n",
       " 'audrey',\n",
       " 'aueu',\n",
       " 'aug',\n",
       " 'augmentedreality',\n",
       " 'august',\n",
       " 'auh',\n",
       " 'aunction',\n",
       " 'aunt',\n",
       " 'aunty',\n",
       " 'aura',\n",
       " 'auriculare',\n",
       " 'aurora',\n",
       " 'aurorabeauty',\n",
       " 'aussie',\n",
       " 'austin',\n",
       " 'australia',\n",
       " 'australianshepherd',\n",
       " 'australiapic',\n",
       " 'authentic',\n",
       " 'authoritypic',\n",
       " 'auto',\n",
       " 'autocad',\n",
       " 'autocorrect',\n",
       " 'autocorrectfail',\n",
       " 'autocorrecting',\n",
       " 'autofix',\n",
       " 'autograph',\n",
       " 'automated',\n",
       " 'automatedsystem',\n",
       " 'automatic',\n",
       " 'automatically',\n",
       " 'automobile',\n",
       " 'autumn',\n",
       " 'autumnpic',\n",
       " 'auuhkx',\n",
       " 'aux',\n",
       " 'auyzregk',\n",
       " 'av',\n",
       " 'avail',\n",
       " 'available',\n",
       " 'avatar',\n",
       " 'avday',\n",
       " 'ave',\n",
       " 'avenger',\n",
       " 'avenue',\n",
       " 'average',\n",
       " 'avgeek',\n",
       " 'avi',\n",
       " 'aviary',\n",
       " 'aviation',\n",
       " 'avicii',\n",
       " 'avid',\n",
       " 'avit',\n",
       " 'avm',\n",
       " 'avocadoe',\n",
       " 'avoid',\n",
       " 'avoided',\n",
       " 'avtweeps',\n",
       " 'avtweetup',\n",
       " 'avvqn',\n",
       " 'avxtdkdkss',\n",
       " 'aw',\n",
       " 'awaiting',\n",
       " 'awake',\n",
       " 'award',\n",
       " 'aware',\n",
       " 'awareness',\n",
       " 'away',\n",
       " 'awdqysqlzg',\n",
       " 'awe',\n",
       " 'awed',\n",
       " 'awesome',\n",
       " 'awesomeness',\n",
       " 'awesomeone',\n",
       " 'awesomepic',\n",
       " 'awesomized',\n",
       " 'awfmyf',\n",
       " 'awful',\n",
       " 'awh',\n",
       " 'awhile',\n",
       " 'awks',\n",
       " 'awkward',\n",
       " 'awn',\n",
       " 'awolnation',\n",
       " 'awsome',\n",
       " 'aww',\n",
       " 'awww',\n",
       " 'awwww',\n",
       " 'awwwww',\n",
       " 'awzshauqbk',\n",
       " 'ax',\n",
       " 'axhqqwwf',\n",
       " 'ay',\n",
       " 'ayaq',\n",
       " 'aynfj',\n",
       " 'ayob',\n",
       " 'ayodya',\n",
       " 'aysku',\n",
       " 'az',\n",
       " 'azerbaijan',\n",
       " 'aztec',\n",
       " 'ba',\n",
       " 'baaaby',\n",
       " 'baba',\n",
       " 'babe',\n",
       " 'babecaughtmesleeping',\n",
       " 'babhvvycud',\n",
       " 'babi',\n",
       " 'babolat',\n",
       " 'babubi',\n",
       " 'baby',\n",
       " 'babyboy',\n",
       " 'babycousin',\n",
       " 'babygirl',\n",
       " 'babylove',\n",
       " 'babymuscles',\n",
       " 'babypink',\n",
       " 'babysister',\n",
       " 'babyyy',\n",
       " 'bacardi',\n",
       " 'back',\n",
       " 'backbone',\n",
       " 'backcountry',\n",
       " 'backcover',\n",
       " 'backed',\n",
       " 'backend',\n",
       " 'backface',\n",
       " 'background',\n",
       " 'backing',\n",
       " 'backlit',\n",
       " 'backoninstagram',\n",
       " 'backontrack',\n",
       " 'backordered',\n",
       " 'backpack',\n",
       " 'backpacker',\n",
       " 'backtocollege',\n",
       " 'backup',\n",
       " 'backyard',\n",
       " 'bacon',\n",
       " 'baconeggandcheese',\n",
       " ...]"
      ]
     },
     "execution_count": 29,
     "metadata": {},
     "output_type": "execute_result"
    }
   ],
   "source": [
    "vectorizer.get_feature_names() "
   ]
  },
  {
   "cell_type": "markdown",
   "metadata": {
    "colab_type": "text",
    "id": "KIS8EUCNicTq"
   },
   "source": [
    "Split the dataset into training and validation set"
   ]
  },
  {
   "cell_type": "code",
   "execution_count": 30,
   "metadata": {
    "colab": {},
    "colab_type": "code",
    "id": "FFypHUiQhDIG"
   },
   "outputs": [],
   "source": [
    "xtrain_bow, xvalid_bow, ytrain, yvalid = train_test_split(features,data['label'],test_size=0.3,random_state=42) "
   ]
  },
  {
   "cell_type": "markdown",
   "metadata": {
    "colab_type": "text",
    "id": "aE2vW0sMii0t"
   },
   "source": [
    "Training Logistic Regression"
   ]
  },
  {
   "cell_type": "code",
   "execution_count": 31,
   "metadata": {
    "colab": {
     "base_uri": "https://localhost:8080/",
     "height": 35
    },
    "colab_type": "code",
    "id": "NDYDrg1xgeH1",
    "outputId": "698d410e-f3b5-46c2-abfe-3b89b752a279"
   },
   "outputs": [
    {
     "data": {
      "text/plain": [
       "0.6785046728971962"
      ]
     },
     "execution_count": 31,
     "metadata": {},
     "output_type": "execute_result"
    }
   ],
   "source": [
    "lr = LogisticRegression()           #instantiate model\n",
    "\n",
    "lr.fit(xtrain_bow, ytrain)          #training model\n",
    "\n",
    "prediction = lr.predict(xvalid_bow) #predicting on validation set\n",
    "\n",
    "f1_score(yvalid, prediction)        #calculating f1 score"
   ]
  },
  {
   "cell_type": "markdown",
   "metadata": {
    "colab_type": "text",
    "id": "y5PS-37jj67b"
   },
   "source": [
    "We have seen the pre-processing steps and how to train the model using TF-IDF features\n"
   ]
  },
  {
   "cell_type": "code",
   "execution_count": null,
   "metadata": {},
   "outputs": [],
   "source": []
  }
 ],
 "metadata": {
  "colab": {
   "name": "TF-IDF.ipynb",
   "provenance": [],
   "version": "0.3.2"
  },
  "kernelspec": {
   "display_name": "Python 3",
   "language": "python",
   "name": "python3"
  },
  "language_info": {
   "codemirror_mode": {
    "name": "ipython",
    "version": 3
   },
   "file_extension": ".py",
   "mimetype": "text/x-python",
   "name": "python",
   "nbconvert_exporter": "python",
   "pygments_lexer": "ipython3",
   "version": "3.7.1"
  }
 },
 "nbformat": 4,
 "nbformat_minor": 2
}
